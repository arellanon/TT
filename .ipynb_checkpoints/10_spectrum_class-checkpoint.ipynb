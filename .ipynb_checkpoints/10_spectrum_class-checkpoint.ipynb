{
 "cells": [
  {
   "cell_type": "code",
   "execution_count": 5,
   "metadata": {},
   "outputs": [],
   "source": [
    "%matplotlib inline"
   ]
  },
  {
   "cell_type": "markdown",
   "metadata": {},
   "source": [
    "\n",
    "\n",
    "# The Spectrum and EpochsSpectrum classes: frequency-domain data\n",
    "\n",
    "This tutorial shows how to create and visualize frequency-domain\n",
    "representations of your data, starting from continuous :class:`~mne.io.Raw`,\n",
    "discontinuous :class:`~mne.Epochs`, or averaged :class:`~mne.Evoked` data.\n",
    "\n",
    "As usual we'll start by importing the modules we need, and loading our\n",
    "`sample dataset <sample-dataset>`:\n"
   ]
  },
  {
   "cell_type": "code",
   "execution_count": 6,
   "metadata": {},
   "outputs": [],
   "source": [
    "import numpy as np\n",
    "\n",
    "import mne\n",
    "\n",
    "sample_data_folder = mne.datasets.sample.data_path()\n",
    "sample_data_raw_file = (sample_data_folder + '/MEG' + '/sample' +\n",
    "                        '/sample_audvis_raw.fif')\n",
    "raw = mne.io.read_raw_fif(sample_data_raw_file, verbose=False).crop(tmax=60)"
   ]
  },
  {
   "cell_type": "markdown",
   "metadata": {},
   "source": [
    "All three sensor-space containers (:class:`~mne.io.Raw`,\n",
    ":class:`~mne.Epochs`, and :class:`~mne.Evoked`) have a\n",
    ":meth:`~mne.io.Raw.compute_psd` method with the same options.\n",
    "\n"
   ]
  },
  {
   "cell_type": "code",
   "execution_count": 8,
   "metadata": {},
   "outputs": [
    {
     "ename": "AttributeError",
     "evalue": "'Raw' object has no attribute 'compute_psd'",
     "output_type": "error",
     "traceback": [
      "\u001b[0;31m---------------------------------------------------------------------------\u001b[0m",
      "\u001b[0;31mAttributeError\u001b[0m                            Traceback (most recent call last)",
      "\u001b[0;32m<ipython-input-8-f4dc7139637a>\u001b[0m in \u001b[0;36m<module>\u001b[0;34m\u001b[0m\n\u001b[0;32m----> 1\u001b[0;31m \u001b[0mraw\u001b[0m\u001b[0;34m.\u001b[0m\u001b[0mcompute_psd\u001b[0m\u001b[0;34m(\u001b[0m\u001b[0;34m)\u001b[0m\u001b[0;34m\u001b[0m\u001b[0;34m\u001b[0m\u001b[0m\n\u001b[0m",
      "\u001b[0;31mAttributeError\u001b[0m: 'Raw' object has no attribute 'compute_psd'"
     ]
    }
   ],
   "source": [
    "raw.compute_psd()"
   ]
  },
  {
   "cell_type": "markdown",
   "metadata": {},
   "source": [
    "By default, the spectral estimation method will be the\n",
    ":footcite:t:`Welch1967` method for continuous data, and the multitaper\n",
    "method :footcite:`Slepian1978` for epoched or averaged data. This default can\n",
    "be overridden by passing ``method='welch'`` or ``method='multitaper'`` to the\n",
    ":meth:`~mne.io.Raw.compute_psd` method.\n",
    "\n",
    "There are many other options available as well; for example we can compute a\n",
    "spectrum from a given span of times, for a chosen frequency range, and for a\n",
    "subset of the available channels:\n",
    "\n"
   ]
  },
  {
   "cell_type": "code",
   "execution_count": null,
   "metadata": {},
   "outputs": [],
   "source": [
    "raw.compute_psd(method='multitaper', tmin=10, tmax=20, fmin=5, fmax=30,\n",
    "                picks='eeg')"
   ]
  },
  {
   "cell_type": "markdown",
   "metadata": {},
   "source": [
    "You can also pass some parameters to the underlying spectral estimation\n",
    "function, such as the FFT window length and overlap for the Welch method; see\n",
    "the docstrings of :class:`mne.time_frequency.Spectrum` (esp. its\n",
    "``method_kw`` parameter) and the spectral estimation functions\n",
    ":func:`~mne.time_frequency.psd_array_welch` and\n",
    ":func:`~mne.time_frequency.psd_array_multitaper` for details.\n",
    "\n",
    "For epoched data, the class of the spectral estimate will be\n",
    ":class:`mne.time_frequency.EpochsSpectrum` instead of\n",
    ":class:`mne.time_frequency.Spectrum`, but most of the API is the same for the\n",
    "two classes. For example, both have a\n",
    ":meth:`~mne.time_frequency.EpochsSpectrum.get_data` method with an option to\n",
    "return the bin frequencies:\n",
    "\n"
   ]
  },
  {
   "cell_type": "code",
   "execution_count": null,
   "metadata": {},
   "outputs": [],
   "source": [
    "with mne.use_log_level('WARNING'):  # hide some irrelevant info messages\n",
    "    events = mne.find_events(raw, stim_channel='STI 014')\n",
    "    event_dict = {'auditory/left': 1, 'auditory/right': 2, 'visual/left': 3,\n",
    "                  'visual/right': 4}\n",
    "    epochs = mne.Epochs(raw, events, tmin=-0.3, tmax=0.7, event_id=event_dict,\n",
    "                        preload=True)\n",
    "epo_spectrum = epochs.compute_psd()\n",
    "psds, freqs = epo_spectrum.get_data(return_freqs=True)\n",
    "print(f'\\nPSDs shape: {psds.shape}, freqs shape: {freqs.shape}')\n",
    "epo_spectrum"
   ]
  },
  {
   "cell_type": "markdown",
   "metadata": {},
   "source": [
    "Additionally, both :class:`~mne.time_frequency.Spectrum` and\n",
    ":class:`~mne.time_frequency.EpochsSpectrum` have ``__getitem__`` methods,\n",
    "meaning their data can be accessed by square-bracket indexing. For\n",
    ":class:`~mne.time_frequency.Spectrum` objects (computed from\n",
    ":class:`~mne.io.Raw` or :class:`~mne.Evoked` data), the indexing works\n",
    "similar to a :class:`~mne.io.Raw` object or a\n",
    ":class:`NumPy array<numpy.ndarray>`:\n",
    "\n"
   ]
  },
  {
   "cell_type": "code",
   "execution_count": null,
   "metadata": {},
   "outputs": [],
   "source": [
    "evoked = epochs['auditory'].average()\n",
    "evk_spectrum = evoked.compute_psd()\n",
    "# the first 3 frequency bins for the first 4 channels:\n",
    "print(evk_spectrum[:4, :3])"
   ]
  },
  {
   "cell_type": "markdown",
   "metadata": {},
   "source": [
    ".. hint::\n",
    "   :class: sidebar\n",
    "\n",
    "   If the original :class:`~mne.Epochs` object had a metadata dataframe\n",
    "   attached, the derived :class:`~mne.time_frequency.EpochsSpectrum` will\n",
    "   inherit that metadata and will hence also support subselecting epochs via\n",
    "   `Pandas query strings <pandas:indexing.query>`.\n",
    "\n",
    "In contrast, the :class:`~mne.time_frequency.EpochsSpectrum` has indexing\n",
    "similar to :class:`~mne.Epochs` objects: you can use string values to select\n",
    "spectral estimates for specific epochs based on their condition names, and\n",
    "what you get back is a new instance of\n",
    ":class:`~mne.time_frequency.EpochsSpectrum` rather than a\n",
    ":class:`NumPy array<numpy.ndarray>` of the data values. Selection via\n",
    ":term:`hierarchical event descriptors` (HEDs) is also possible:\n",
    "\n"
   ]
  },
  {
   "cell_type": "code",
   "execution_count": null,
   "metadata": {},
   "outputs": [],
   "source": [
    "# get both \"visual/left\" and \"visual/right\" epochs:\n",
    "epo_spectrum['visual']"
   ]
  },
  {
   "cell_type": "markdown",
   "metadata": {},
   "source": [
    "## Visualizing Spectrum objects\n",
    "\n",
    "Both :class:`~mne.time_frequency.Spectrum` and\n",
    ":class:`~mne.time_frequency.EpochsSpectrum` objects have plotting methods\n",
    ":meth:`~mne.time_frequency.Spectrum.plot` (frequency × power),\n",
    ":meth:`~mne.time_frequency.Spectrum.plot_topo` (frequency × power separately\n",
    "for each sensor), and :meth:`~mne.time_frequency.Spectrum.plot_topomap`\n",
    "(interpolated scalp topography of power, in specific frequency bands). A few\n",
    "plot options are demonstrated below; see the docstrings for full details.\n",
    "\n"
   ]
  },
  {
   "cell_type": "code",
   "execution_count": null,
   "metadata": {},
   "outputs": [],
   "source": [
    "evk_spectrum.plot()\n",
    "evk_spectrum.plot_topo(color='k', fig_facecolor='w', axis_facecolor='w')"
   ]
  },
  {
   "cell_type": "code",
   "execution_count": null,
   "metadata": {},
   "outputs": [],
   "source": [
    "evk_spectrum.plot_topomap(ch_type='eeg', agg_fun=np.median)"
   ]
  },
  {
   "cell_type": "markdown",
   "metadata": {},
   "source": [
    "## Migrating legacy code\n",
    "\n",
    "Below is a quick-reference table of equivalent code from before and after the\n",
    "introduction of the :class:`~mne.time_frequency.Spectrum` and\n",
    ":class:`~mne.time_frequency.EpochsSpectrum` classes.\n",
    "\n",
    ".. table:: Quick reference for common Spectral class actions\n",
    "   :widths: auto\n",
    "\n",
    "   +---------------------------------------------------+----------------------------------------------------------------------+\n",
    "   | Old                                               | New                                                                  |\n",
    "   +===================================================+======================================================================+\n",
    "   | ``mne.time_frequency.psd_welch(raw)``             | ``raw.compute_psd().get_data(return_freqs=True)``                    |\n",
    "   +---------------------------------------------------+----------------------------------------------------------------------+\n",
    "   | ``mne.time_frequency.psd_multitaper(raw)``        | ``raw.compute_psd(method='multitaper').get_data(return_freqs=True)`` |\n",
    "   +---------------------------------------------------+----------------------------------------------------------------------+\n",
    "   | ``raw.plot_psd(fmin, fmax, dB, area_mode='std')`` | ``raw.compute_psd(fmin, fmax).plot(dB, ci='std')``                   |\n",
    "   +---------------------------------------------------+----------------------------------------------------------------------+\n",
    "   | ``raw.plot_psd_topo(n_fft, overlap, axes)``       | ``raw.compute_psd(n_fft, overlap).plot_topo(axes)``                  |\n",
    "   +---------------------------------------------------+----------------------------------------------------------------------+\n",
    "   | ``epochs.plot_psd_topomap(tmax, bands)``          | ``epochs.compute_psd(tmax).plot_topomap(bands)``                     |\n",
    "   +---------------------------------------------------+----------------------------------------------------------------------+\n",
    "\n",
    "\n",
    "<div class=\"alert alert-danger\"><h4>Warning</h4><p>The functions ``mne.time_frequency.psd_welch`` and\n",
    "   ``mne.time_frequency.psd_multitaper`` have been removed; new code\n",
    "   should use the :meth:`Raw.compute_psd()<mne.io.Raw.compute_psd>`,\n",
    "   :meth:`Epochs.compute_psd()<mne.Epochs.compute_psd>`, and\n",
    "   :meth:`Evoked.compute_psd()<mne.Evoked.compute_psd>` methods, and pass\n",
    "   ``method='welch'`` or ``method='multitaper'`` as a parameter.\n",
    "\n",
    "   The class methods :meth:`Raw.plot_psd()<mne.io.Raw.plot_psd>`,\n",
    "   :meth:`Epochs.plot_psd()<mne.Epochs.plot_psd>`,\n",
    "   :meth:`Raw.plot_psd_topo()<mne.io.Raw.plot_psd_topo>`, and\n",
    "   :meth:`Epochs.plot_psd_topomap()<mne.Epochs.plot_psd_topomap>` have been\n",
    "   kept in the API to support legacy code, but should be avoided when writing\n",
    "   new code.</p></div>\n",
    "\n",
    "\n",
    "## References\n",
    ".. footbibliography::\n",
    "\n"
   ]
  }
 ],
 "metadata": {
  "kernelspec": {
   "display_name": "Python 3",
   "language": "python",
   "name": "python3"
  }
 },
 "nbformat": 4,
 "nbformat_minor": 1
}
