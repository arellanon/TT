{
 "cells": [
  {
   "cell_type": "code",
   "execution_count": 6,
   "metadata": {},
   "outputs": [],
   "source": [
    "%matplotlib inline"
   ]
  },
  {
   "cell_type": "markdown",
   "metadata": {},
   "source": [
    "\n",
    "\n",
    "# Working with Epoch metadata\n",
    "\n",
    "This tutorial shows how to add metadata to `~mne.Epochs` objects, and\n",
    "how to use `Pandas query strings <pandas:indexing.query>` to select and\n",
    "plot epochs based on metadata properties.\n",
    "\n",
    "For this tutorial we'll use a different dataset than usual: the\n",
    "`kiloword-dataset`, which contains EEG data averaged across 75 subjects\n",
    "who were performing a lexical decision (word/non-word) task. The data is in\n",
    "`~mne.Epochs` format, with each epoch representing the response to a\n",
    "different stimulus (word). As usual we'll start by importing the modules we\n",
    "need and loading the data:\n"
   ]
  },
  {
   "cell_type": "code",
   "execution_count": 10,
   "metadata": {},
   "outputs": [
    {
     "data": {
      "text/plain": [
       "'/home/nahuel/mne_data/MNE-kiloword-data'"
      ]
     },
     "execution_count": 10,
     "metadata": {},
     "output_type": "execute_result"
    }
   ],
   "source": [
    "import numpy as np\n",
    "import pandas as pd\n",
    "import mne\n",
    "\n",
    "kiloword_data_folder = mne.datasets.kiloword.data_path()\n",
    "kiloword_data_folder"
   ]
  },
  {
   "cell_type": "code",
   "execution_count": 12,
   "metadata": {},
   "outputs": [
    {
     "ename": "TypeError",
     "evalue": "unsupported operand type(s) for /: 'str' and 'str'",
     "output_type": "error",
     "traceback": [
      "\u001b[0;31m---------------------------------------------------------------------------\u001b[0m",
      "\u001b[0;31mTypeError\u001b[0m                                 Traceback (most recent call last)",
      "\u001b[0;32m<ipython-input-12-14f14fb7bcd9>\u001b[0m in \u001b[0;36m<module>\u001b[0;34m\u001b[0m\n\u001b[0;32m----> 1\u001b[0;31m \u001b[0mkiloword_data_file\u001b[0m \u001b[0;34m=\u001b[0m \u001b[0mkiloword_data_folder\u001b[0m \u001b[0;34m/\u001b[0m \u001b[0;34m'kword_metadata-epo.fif'\u001b[0m\u001b[0;34m\u001b[0m\u001b[0;34m\u001b[0m\u001b[0m\n\u001b[0m\u001b[1;32m      2\u001b[0m \u001b[0mepochs\u001b[0m \u001b[0;34m=\u001b[0m \u001b[0mmne\u001b[0m\u001b[0;34m.\u001b[0m\u001b[0mread_epochs\u001b[0m\u001b[0;34m(\u001b[0m\u001b[0mkiloword_data_file\u001b[0m\u001b[0;34m)\u001b[0m\u001b[0;34m\u001b[0m\u001b[0;34m\u001b[0m\u001b[0m\n",
      "\u001b[0;31mTypeError\u001b[0m: unsupported operand type(s) for /: 'str' and 'str'"
     ]
    }
   ],
   "source": [
    "kiloword_data_file = kiloword_data_folder / 'kword_metadata-epo.fif'\n",
    "epochs = mne.read_epochs(kiloword_data_file)"
   ]
  },
  {
   "cell_type": "markdown",
   "metadata": {},
   "source": [
    "## Viewing ``Epochs`` metadata\n",
    "\n",
    ".. admonition:: Restrictions on metadata DataFrames\n",
    "   :class: sidebar warning\n",
    "\n",
    "   Metadata dataframes are less flexible than typical\n",
    "   :class:`Pandas DataFrames <pandas.DataFrame>`. For example, the allowed\n",
    "   data types are restricted to strings, floats, integers, or booleans;\n",
    "   and the row labels are always integers corresponding to epoch numbers.\n",
    "   Other capabilities of :class:`DataFrames <pandas.DataFrame>` such as\n",
    "   :class:`hierarchical indexing <pandas.MultiIndex>` are possible while the\n",
    "   `~mne.Epochs` object is in memory, but will not survive saving and\n",
    "   reloading the `~mne.Epochs` object to/from disk.\n",
    "\n",
    "The metadata attached to `~mne.Epochs` objects is stored as a\n",
    ":class:`pandas.DataFrame` containing one row for each epoch. The columns of\n",
    "this :class:`~pandas.DataFrame` can contain just about any information you\n",
    "want to store about each epoch; in this case, the metadata encodes\n",
    "information about the stimulus seen on each trial, including properties of\n",
    "the visual word form itself (e.g., ``NumberOfLetters``, ``VisualComplexity``)\n",
    "as well as properties of what the word means (e.g., its ``Concreteness``) and\n",
    "its prominence in the English lexicon (e.g., ``WordFrequency``). Here are all\n",
    "the variables; note that in a Jupyter notebook, viewing a\n",
    ":class:`pandas.DataFrame` gets rendered as an HTML table instead of the\n",
    "normal Python output block:\n",
    "\n"
   ]
  },
  {
   "cell_type": "code",
   "execution_count": null,
   "metadata": {},
   "outputs": [],
   "source": [
    "epochs.metadata"
   ]
  },
  {
   "cell_type": "markdown",
   "metadata": {},
   "source": [
    "Viewing the metadata values for a given epoch and metadata variable is done\n",
    "using any of the `Pandas indexing <pandas:/reference/indexing.rst>`\n",
    "methods such as :obj:`~pandas.DataFrame.loc`,\n",
    ":obj:`~pandas.DataFrame.iloc`, :obj:`~pandas.DataFrame.at`,\n",
    "and :obj:`~pandas.DataFrame.iat`. Because the\n",
    "index of the dataframe is the integer epoch number, the name- and index-based\n",
    "selection methods will work similarly for selecting rows, except that\n",
    "name-based selection (with :obj:`~pandas.DataFrame.loc`) is inclusive of the\n",
    "endpoint:\n",
    "\n"
   ]
  },
  {
   "cell_type": "code",
   "execution_count": null,
   "metadata": {},
   "outputs": [],
   "source": [
    "print('Name-based selection with .loc')\n",
    "print(epochs.metadata.loc[2:4])\n",
    "\n",
    "print('\\nIndex-based selection with .iloc')\n",
    "print(epochs.metadata.iloc[2:4])"
   ]
  },
  {
   "cell_type": "markdown",
   "metadata": {},
   "source": [
    "## Modifying the metadata\n",
    "\n",
    "Like any :class:`pandas.DataFrame`, you can modify the data or add columns as\n",
    "needed. Here we convert the ``NumberOfLetters`` column from :class:`float` to\n",
    ":class:`integer <int>` data type, and add a :class:`boolean <bool>` column\n",
    "that arbitrarily divides the variable ``VisualComplexity`` into high and low\n",
    "groups.\n",
    "\n"
   ]
  },
  {
   "cell_type": "code",
   "execution_count": null,
   "metadata": {},
   "outputs": [],
   "source": [
    "epochs.metadata['NumberOfLetters'] = \\\n",
    "    epochs.metadata['NumberOfLetters'].map(int)\n",
    "\n",
    "epochs.metadata['HighComplexity'] = epochs.metadata['VisualComplexity'] > 65\n",
    "epochs.metadata.head()"
   ]
  },
  {
   "cell_type": "markdown",
   "metadata": {},
   "source": [
    "## Selecting epochs using metadata queries\n",
    "\n",
    "All `~mne.Epochs` objects can be subselected by event name, index, or\n",
    ":term:`slice` (see `tut-section-subselect-epochs`). But\n",
    "`~mne.Epochs` objects with metadata can also be queried using\n",
    "`Pandas query strings <pandas:indexing.query>` by passing the query\n",
    "string just as you would normally pass an event name. For example:\n",
    "\n"
   ]
  },
  {
   "cell_type": "code",
   "execution_count": 4,
   "metadata": {},
   "outputs": [
    {
     "ename": "NameError",
     "evalue": "name 'epochs' is not defined",
     "output_type": "error",
     "traceback": [
      "\u001b[0;31m---------------------------------------------------------------------------\u001b[0m",
      "\u001b[0;31mNameError\u001b[0m                                 Traceback (most recent call last)",
      "\u001b[0;32m<ipython-input-4-e70ad6fdf435>\u001b[0m in \u001b[0;36m<module>\u001b[0;34m\u001b[0m\n\u001b[0;32m----> 1\u001b[0;31m \u001b[0mprint\u001b[0m\u001b[0;34m(\u001b[0m\u001b[0mepochs\u001b[0m\u001b[0;34m[\u001b[0m\u001b[0;34m'WORD.str.startswith(\"dis\")'\u001b[0m\u001b[0;34m]\u001b[0m\u001b[0;34m)\u001b[0m\u001b[0;34m\u001b[0m\u001b[0;34m\u001b[0m\u001b[0m\n\u001b[0m",
      "\u001b[0;31mNameError\u001b[0m: name 'epochs' is not defined"
     ]
    }
   ],
   "source": [
    "print(epochs['WORD.str.startswith(\"dis\")'])"
   ]
  },
  {
   "cell_type": "markdown",
   "metadata": {},
   "source": [
    "This capability uses the :meth:`pandas.DataFrame.query` method under the\n",
    "hood, so you can check out the documentation of that method to learn how to\n",
    "format query strings. Here's another example:\n",
    "\n"
   ]
  },
  {
   "cell_type": "code",
   "execution_count": null,
   "metadata": {},
   "outputs": [],
   "source": [
    "print(epochs['Concreteness > 6 and WordFrequency < 1'])"
   ]
  },
  {
   "cell_type": "markdown",
   "metadata": {},
   "source": [
    "Note also that traditional epochs subselection by condition name still works;\n",
    "MNE-Python will try the traditional method first before falling back on rich\n",
    "metadata querying.\n",
    "\n"
   ]
  },
  {
   "cell_type": "code",
   "execution_count": null,
   "metadata": {},
   "outputs": [],
   "source": [
    "epochs['solenoid'].plot_psd()"
   ]
  },
  {
   "cell_type": "markdown",
   "metadata": {},
   "source": [
    "One use of the Pandas query string approach is to select specific words for\n",
    "plotting:\n",
    "\n"
   ]
  },
  {
   "cell_type": "code",
   "execution_count": null,
   "metadata": {},
   "outputs": [],
   "source": [
    "words = ['typhoon', 'bungalow', 'colossus', 'drudgery', 'linguist', 'solenoid']\n",
    "epochs['WORD in {}'.format(words)].plot(n_channels=29)"
   ]
  },
  {
   "cell_type": "markdown",
   "metadata": {},
   "source": [
    "Notice that in this dataset, each \"condition\" (A.K.A., each word) occurs only\n",
    "once, whereas with the `sample-dataset` dataset each condition (e.g.,\n",
    "\"auditory/left\", \"visual/right\", etc) occurred dozens of times. This makes\n",
    "the Pandas querying methods especially useful when you want to aggregate\n",
    "epochs that have different condition names but that share similar stimulus\n",
    "properties. For example, here we group epochs based on the number of letters\n",
    "in the stimulus word, and compare the average signal at electrode ``Pz`` for\n",
    "each group:\n",
    "\n"
   ]
  },
  {
   "cell_type": "code",
   "execution_count": null,
   "metadata": {},
   "outputs": [],
   "source": [
    "evokeds = dict()\n",
    "query = 'NumberOfLetters == {}'\n",
    "for n_letters in epochs.metadata['NumberOfLetters'].unique():\n",
    "    evokeds[str(n_letters)] = epochs[query.format(n_letters)].average()\n",
    "\n",
    "mne.viz.plot_compare_evokeds(evokeds, cmap=('word length', 'viridis'),\n",
    "                             picks='Pz')"
   ]
  },
  {
   "cell_type": "markdown",
   "metadata": {},
   "source": [
    "Metadata can also be useful for sorting the epochs in an image plot. For\n",
    "example, here we order the epochs based on word frequency to see if there's a\n",
    "pattern to the latency or intensity of the response:\n",
    "\n"
   ]
  },
  {
   "cell_type": "code",
   "execution_count": null,
   "metadata": {},
   "outputs": [],
   "source": [
    "sort_order = np.argsort(epochs.metadata['WordFrequency'])\n",
    "epochs.plot_image(order=sort_order, picks='Pz')"
   ]
  },
  {
   "cell_type": "markdown",
   "metadata": {},
   "source": [
    "Although there's no obvious relationship in this case, such analyses may be\n",
    "useful for metadata variables that more directly index the time course of\n",
    "stimulus processing (such as reaction time).\n",
    "\n",
    "\n",
    "## Adding metadata to an ``Epochs`` object\n",
    "\n",
    "You can add a metadata :class:`~pandas.DataFrame` to any\n",
    "`~mne.Epochs` object (or replace existing metadata) simply by\n",
    "assigning to the :attr:`~mne.Epochs.metadata` attribute:\n",
    "\n"
   ]
  },
  {
   "cell_type": "code",
   "execution_count": null,
   "metadata": {},
   "outputs": [],
   "source": [
    "new_metadata = pd.DataFrame(data=['foo'] * len(epochs), columns=['bar'],\n",
    "                            index=range(len(epochs)))\n",
    "epochs.metadata = new_metadata\n",
    "epochs.metadata.head()"
   ]
  },
  {
   "cell_type": "markdown",
   "metadata": {},
   "source": [
    "You can remove metadata from an `~mne.Epochs` object by setting its\n",
    "metadata to ``None``:\n",
    "\n"
   ]
  },
  {
   "cell_type": "code",
   "execution_count": null,
   "metadata": {},
   "outputs": [],
   "source": [
    "epochs.metadata = None"
   ]
  }
 ],
 "metadata": {
  "kernelspec": {
   "display_name": "Python 3",
   "language": "python",
   "name": "python3"
  },
  "language_info": {
   "codemirror_mode": {
    "name": "ipython",
    "version": 3
   },
   "file_extension": ".py",
   "mimetype": "text/x-python",
   "name": "python",
   "nbconvert_exporter": "python",
   "pygments_lexer": "ipython3",
   "version": "3.8.5"
  }
 },
 "nbformat": 4,
 "nbformat_minor": 1
}
