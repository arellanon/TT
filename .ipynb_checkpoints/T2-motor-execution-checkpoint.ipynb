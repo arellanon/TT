{
 "cells": [
  {
   "cell_type": "code",
   "execution_count": 1,
   "metadata": {},
   "outputs": [],
   "source": [
    "#librerias\n",
    "import numpy as np\n",
    "import time\n",
    "from datetime import datetime\n",
    "#from loaddata import *\n",
    "\n",
    "#sklearn\n",
    "from sklearn.model_selection import ShuffleSplit, cross_val_score, cross_val_predict\n",
    "from sklearn.discriminant_analysis import LinearDiscriminantAnalysis\n",
    "from sklearn.pipeline import Pipeline\n",
    "from sklearn.model_selection import train_test_split\n",
    "from sklearn import metrics as met\n",
    "import joblib\n",
    "\n",
    "import matplotlib\n",
    "\n",
    "#mne\n",
    "import mne\n",
    "from mne.decoding import CSP\n",
    "from mne.channels import read_layout\n",
    "from mne.channels import make_standard_montage\n",
    "from mne.preprocessing import (create_eog_epochs, create_ecg_epochs,\n",
    "                               compute_proj_ecg, compute_proj_eog)\n",
    "from mne.io import concatenate_raws, read_raw_edf\n",
    "from mne.datasets import eegbci\n",
    "from mne import Epochs, pick_types, events_from_annotations\n",
    "\n",
    "matplotlib.use('Qt5Agg')"
   ]
  },
  {
   "cell_type": "markdown",
   "metadata": {},
   "source": [
    "# Eegbci\n",
    "T0 corresponds to rest\n",
    "\n",
    "    T1 corresponds to onset of motion (real or imagined) of\n",
    "    the left fist (in runs 3, 4, 7, 8, 11, and 12)\n",
    "    both fists (in runs 5, 6, 9, 10, 13, and 14)\n",
    "\n",
    "    T2 corresponds to onset of motion (real or imagined) of\n",
    "    the right fist (in runs 3, 4, 7, 8, 11, and 12)\n",
    "    both feet (in runs 5, 6, 9, 10, 13, and 14)\n",
    "\n",
    "    run task \n",
    "    1 Baseline, eyes open\n",
    "    2 Baseline, eyes closed\n",
    "    3, 7, 11 Motor execution: left vs right hand\n",
    "    4, 8, 12 Motor imagery: left vs right hand\n",
    "    5, 9, 13 Motor execution: hands vs feet\n",
    "    6, 10, 14 Motor imagery: hands vs feet"
   ]
  },
  {
   "cell_type": "code",
   "execution_count": 2,
   "metadata": {},
   "outputs": [
    {
     "name": "stdout",
     "output_type": "stream",
     "text": [
      "Extracting EDF parameters from /home/nahuel/Documents/TESIS/DATA/mne_data/MNE-eegbci-data/files/eegmmidb/1.0.0/S001/S001R03.edf...\n",
      "EDF file detected\n",
      "Setting channel info structure...\n",
      "Creating raw.info structure...\n",
      "Reading 0 ... 19999  =      0.000 ...   124.994 secs...\n",
      "Extracting EDF parameters from /home/nahuel/Documents/TESIS/DATA/mne_data/MNE-eegbci-data/files/eegmmidb/1.0.0/S001/S001R07.edf...\n",
      "EDF file detected\n",
      "Setting channel info structure...\n",
      "Creating raw.info structure...\n",
      "Reading 0 ... 19999  =      0.000 ...   124.994 secs...\n",
      "Extracting EDF parameters from /home/nahuel/Documents/TESIS/DATA/mne_data/MNE-eegbci-data/files/eegmmidb/1.0.0/S001/S001R11.edf...\n",
      "EDF file detected\n",
      "Setting channel info structure...\n",
      "Creating raw.info structure...\n",
      "Reading 0 ... 19999  =      0.000 ...   124.994 secs...\n",
      "Extracting EDF parameters from /home/nahuel/Documents/TESIS/DATA/mne_data/MNE-eegbci-data/files/eegmmidb/1.0.0/S002/S002R03.edf...\n",
      "EDF file detected\n",
      "Setting channel info structure...\n",
      "Creating raw.info structure...\n",
      "Reading 0 ... 19679  =      0.000 ...   122.994 secs...\n",
      "Extracting EDF parameters from /home/nahuel/Documents/TESIS/DATA/mne_data/MNE-eegbci-data/files/eegmmidb/1.0.0/S002/S002R07.edf...\n",
      "EDF file detected\n",
      "Setting channel info structure...\n",
      "Creating raw.info structure...\n",
      "Reading 0 ... 19679  =      0.000 ...   122.994 secs...\n",
      "Extracting EDF parameters from /home/nahuel/Documents/TESIS/DATA/mne_data/MNE-eegbci-data/files/eegmmidb/1.0.0/S002/S002R11.edf...\n",
      "EDF file detected\n",
      "Setting channel info structure...\n",
      "Creating raw.info structure...\n",
      "Reading 0 ... 19679  =      0.000 ...   122.994 secs...\n",
      "Extracting EDF parameters from /home/nahuel/Documents/TESIS/DATA/mne_data/MNE-eegbci-data/files/eegmmidb/1.0.0/S003/S003R03.edf...\n",
      "EDF file detected\n",
      "Setting channel info structure...\n",
      "Creating raw.info structure...\n",
      "Reading 0 ... 19999  =      0.000 ...   124.994 secs...\n",
      "Extracting EDF parameters from /home/nahuel/Documents/TESIS/DATA/mne_data/MNE-eegbci-data/files/eegmmidb/1.0.0/S003/S003R07.edf...\n",
      "EDF file detected\n",
      "Setting channel info structure...\n",
      "Creating raw.info structure...\n",
      "Reading 0 ... 19999  =      0.000 ...   124.994 secs...\n",
      "Extracting EDF parameters from /home/nahuel/Documents/TESIS/DATA/mne_data/MNE-eegbci-data/files/eegmmidb/1.0.0/S003/S003R11.edf...\n",
      "EDF file detected\n",
      "Setting channel info structure...\n",
      "Creating raw.info structure...\n",
      "Reading 0 ... 19999  =      0.000 ...   124.994 secs...\n",
      "Extracting EDF parameters from /home/nahuel/Documents/TESIS/DATA/mne_data/MNE-eegbci-data/files/eegmmidb/1.0.0/S004/S004R03.edf...\n",
      "EDF file detected\n",
      "Setting channel info structure...\n",
      "Creating raw.info structure...\n",
      "Reading 0 ... 19679  =      0.000 ...   122.994 secs...\n",
      "Extracting EDF parameters from /home/nahuel/Documents/TESIS/DATA/mne_data/MNE-eegbci-data/files/eegmmidb/1.0.0/S004/S004R07.edf...\n",
      "EDF file detected\n",
      "Setting channel info structure...\n",
      "Creating raw.info structure...\n",
      "Reading 0 ... 19679  =      0.000 ...   122.994 secs...\n",
      "Extracting EDF parameters from /home/nahuel/Documents/TESIS/DATA/mne_data/MNE-eegbci-data/files/eegmmidb/1.0.0/S004/S004R11.edf...\n",
      "EDF file detected\n",
      "Setting channel info structure...\n",
      "Creating raw.info structure...\n",
      "Reading 0 ... 19679  =      0.000 ...   122.994 secs...\n",
      "Extracting EDF parameters from /home/nahuel/Documents/TESIS/DATA/mne_data/MNE-eegbci-data/files/eegmmidb/1.0.0/S005/S005R03.edf...\n",
      "EDF file detected\n",
      "Setting channel info structure...\n",
      "Creating raw.info structure...\n",
      "Reading 0 ... 19679  =      0.000 ...   122.994 secs...\n",
      "Extracting EDF parameters from /home/nahuel/Documents/TESIS/DATA/mne_data/MNE-eegbci-data/files/eegmmidb/1.0.0/S005/S005R07.edf...\n",
      "EDF file detected\n",
      "Setting channel info structure...\n",
      "Creating raw.info structure...\n",
      "Reading 0 ... 19679  =      0.000 ...   122.994 secs...\n",
      "Extracting EDF parameters from /home/nahuel/Documents/TESIS/DATA/mne_data/MNE-eegbci-data/files/eegmmidb/1.0.0/S005/S005R11.edf...\n",
      "EDF file detected\n",
      "Setting channel info structure...\n",
      "Creating raw.info structure...\n",
      "Reading 0 ... 19679  =      0.000 ...   122.994 secs...\n",
      "Extracting EDF parameters from /home/nahuel/Documents/TESIS/DATA/mne_data/MNE-eegbci-data/files/eegmmidb/1.0.0/S006/S006R03.edf...\n",
      "EDF file detected\n",
      "Setting channel info structure...\n",
      "Creating raw.info structure...\n",
      "Reading 0 ... 19679  =      0.000 ...   122.994 secs...\n",
      "Extracting EDF parameters from /home/nahuel/Documents/TESIS/DATA/mne_data/MNE-eegbci-data/files/eegmmidb/1.0.0/S006/S006R07.edf...\n",
      "EDF file detected\n",
      "Setting channel info structure...\n",
      "Creating raw.info structure...\n",
      "Reading 0 ... 19679  =      0.000 ...   122.994 secs...\n",
      "Extracting EDF parameters from /home/nahuel/Documents/TESIS/DATA/mne_data/MNE-eegbci-data/files/eegmmidb/1.0.0/S006/S006R11.edf...\n",
      "EDF file detected\n",
      "Setting channel info structure...\n",
      "Creating raw.info structure...\n",
      "Reading 0 ... 19679  =      0.000 ...   122.994 secs...\n",
      "Extracting EDF parameters from /home/nahuel/Documents/TESIS/DATA/mne_data/MNE-eegbci-data/files/eegmmidb/1.0.0/S007/S007R03.edf...\n",
      "EDF file detected\n",
      "Setting channel info structure...\n",
      "Creating raw.info structure...\n",
      "Reading 0 ... 19999  =      0.000 ...   124.994 secs...\n",
      "Extracting EDF parameters from /home/nahuel/Documents/TESIS/DATA/mne_data/MNE-eegbci-data/files/eegmmidb/1.0.0/S007/S007R07.edf...\n",
      "EDF file detected\n",
      "Setting channel info structure...\n",
      "Creating raw.info structure...\n",
      "Reading 0 ... 19999  =      0.000 ...   124.994 secs...\n",
      "Extracting EDF parameters from /home/nahuel/Documents/TESIS/DATA/mne_data/MNE-eegbci-data/files/eegmmidb/1.0.0/S007/S007R11.edf...\n",
      "EDF file detected\n",
      "Setting channel info structure...\n",
      "Creating raw.info structure...\n",
      "Reading 0 ... 19999  =      0.000 ...   124.994 secs...\n",
      "Extracting EDF parameters from /home/nahuel/Documents/TESIS/DATA/mne_data/MNE-eegbci-data/files/eegmmidb/1.0.0/S008/S008R03.edf...\n",
      "EDF file detected\n",
      "Setting channel info structure...\n",
      "Creating raw.info structure...\n",
      "Reading 0 ... 19679  =      0.000 ...   122.994 secs...\n",
      "Extracting EDF parameters from /home/nahuel/Documents/TESIS/DATA/mne_data/MNE-eegbci-data/files/eegmmidb/1.0.0/S008/S008R07.edf...\n",
      "EDF file detected\n",
      "Setting channel info structure...\n",
      "Creating raw.info structure...\n",
      "Reading 0 ... 19679  =      0.000 ...   122.994 secs...\n",
      "Extracting EDF parameters from /home/nahuel/Documents/TESIS/DATA/mne_data/MNE-eegbci-data/files/eegmmidb/1.0.0/S008/S008R11.edf...\n",
      "EDF file detected\n",
      "Setting channel info structure...\n",
      "Creating raw.info structure...\n",
      "Reading 0 ... 19679  =      0.000 ...   122.994 secs...\n",
      "Extracting EDF parameters from /home/nahuel/Documents/TESIS/DATA/mne_data/MNE-eegbci-data/files/eegmmidb/1.0.0/S009/S009R03.edf...\n",
      "EDF file detected\n",
      "Setting channel info structure...\n",
      "Creating raw.info structure...\n",
      "Reading 0 ... 19679  =      0.000 ...   122.994 secs...\n",
      "Extracting EDF parameters from /home/nahuel/Documents/TESIS/DATA/mne_data/MNE-eegbci-data/files/eegmmidb/1.0.0/S009/S009R07.edf...\n",
      "EDF file detected\n",
      "Setting channel info structure...\n",
      "Creating raw.info structure...\n",
      "Reading 0 ... 19679  =      0.000 ...   122.994 secs...\n",
      "Extracting EDF parameters from /home/nahuel/Documents/TESIS/DATA/mne_data/MNE-eegbci-data/files/eegmmidb/1.0.0/S009/S009R11.edf...\n",
      "EDF file detected\n",
      "Setting channel info structure...\n",
      "Creating raw.info structure...\n",
      "Reading 0 ... 19679  =      0.000 ...   122.994 secs...\n",
      "Extracting EDF parameters from /home/nahuel/Documents/TESIS/DATA/mne_data/MNE-eegbci-data/files/eegmmidb/1.0.0/S010/S010R03.edf...\n",
      "EDF file detected\n",
      "Setting channel info structure...\n",
      "Creating raw.info structure...\n",
      "Reading 0 ... 19679  =      0.000 ...   122.994 secs...\n",
      "Extracting EDF parameters from /home/nahuel/Documents/TESIS/DATA/mne_data/MNE-eegbci-data/files/eegmmidb/1.0.0/S010/S010R07.edf...\n",
      "EDF file detected\n",
      "Setting channel info structure...\n",
      "Creating raw.info structure...\n",
      "Reading 0 ... 19679  =      0.000 ...   122.994 secs...\n",
      "Extracting EDF parameters from /home/nahuel/Documents/TESIS/DATA/mne_data/MNE-eegbci-data/files/eegmmidb/1.0.0/S010/S010R11.edf...\n",
      "EDF file detected\n",
      "Setting channel info structure...\n",
      "Creating raw.info structure...\n",
      "Reading 0 ... 19679  =      0.000 ...   122.994 secs...\n",
      "Extracting EDF parameters from /home/nahuel/Documents/TESIS/DATA/mne_data/MNE-eegbci-data/files/eegmmidb/1.0.0/S011/S011R03.edf...\n"
     ]
    },
    {
     "name": "stdout",
     "output_type": "stream",
     "text": [
      "EDF file detected\n",
      "Setting channel info structure...\n",
      "Creating raw.info structure...\n",
      "Reading 0 ... 19679  =      0.000 ...   122.994 secs...\n",
      "Extracting EDF parameters from /home/nahuel/Documents/TESIS/DATA/mne_data/MNE-eegbci-data/files/eegmmidb/1.0.0/S011/S011R07.edf...\n",
      "EDF file detected\n",
      "Setting channel info structure...\n",
      "Creating raw.info structure...\n",
      "Reading 0 ... 19679  =      0.000 ...   122.994 secs...\n",
      "Extracting EDF parameters from /home/nahuel/Documents/TESIS/DATA/mne_data/MNE-eegbci-data/files/eegmmidb/1.0.0/S011/S011R11.edf...\n",
      "EDF file detected\n",
      "Setting channel info structure...\n",
      "Creating raw.info structure...\n",
      "Reading 0 ... 19679  =      0.000 ...   122.994 secs...\n",
      "Extracting EDF parameters from /home/nahuel/Documents/TESIS/DATA/mne_data/MNE-eegbci-data/files/eegmmidb/1.0.0/S012/S012R03.edf...\n",
      "EDF file detected\n",
      "Setting channel info structure...\n",
      "Creating raw.info structure...\n",
      "Reading 0 ... 19679  =      0.000 ...   122.994 secs...\n",
      "Extracting EDF parameters from /home/nahuel/Documents/TESIS/DATA/mne_data/MNE-eegbci-data/files/eegmmidb/1.0.0/S012/S012R07.edf...\n",
      "EDF file detected\n",
      "Setting channel info structure...\n",
      "Creating raw.info structure...\n",
      "Reading 0 ... 19679  =      0.000 ...   122.994 secs...\n",
      "Extracting EDF parameters from /home/nahuel/Documents/TESIS/DATA/mne_data/MNE-eegbci-data/files/eegmmidb/1.0.0/S012/S012R11.edf...\n",
      "EDF file detected\n",
      "Setting channel info structure...\n",
      "Creating raw.info structure...\n",
      "Reading 0 ... 19679  =      0.000 ...   122.994 secs...\n",
      "Extracting EDF parameters from /home/nahuel/Documents/TESIS/DATA/mne_data/MNE-eegbci-data/files/eegmmidb/1.0.0/S013/S013R03.edf...\n",
      "EDF file detected\n",
      "Setting channel info structure...\n",
      "Creating raw.info structure...\n",
      "Reading 0 ... 19679  =      0.000 ...   122.994 secs...\n",
      "Extracting EDF parameters from /home/nahuel/Documents/TESIS/DATA/mne_data/MNE-eegbci-data/files/eegmmidb/1.0.0/S013/S013R07.edf...\n",
      "EDF file detected\n",
      "Setting channel info structure...\n",
      "Creating raw.info structure...\n",
      "Reading 0 ... 19679  =      0.000 ...   122.994 secs...\n",
      "Extracting EDF parameters from /home/nahuel/Documents/TESIS/DATA/mne_data/MNE-eegbci-data/files/eegmmidb/1.0.0/S013/S013R11.edf...\n",
      "EDF file detected\n",
      "Setting channel info structure...\n",
      "Creating raw.info structure...\n",
      "Reading 0 ... 19679  =      0.000 ...   122.994 secs...\n",
      "Extracting EDF parameters from /home/nahuel/Documents/TESIS/DATA/mne_data/MNE-eegbci-data/files/eegmmidb/1.0.0/S014/S014R03.edf...\n",
      "EDF file detected\n",
      "Setting channel info structure...\n",
      "Creating raw.info structure...\n",
      "Reading 0 ... 19679  =      0.000 ...   122.994 secs...\n",
      "Extracting EDF parameters from /home/nahuel/Documents/TESIS/DATA/mne_data/MNE-eegbci-data/files/eegmmidb/1.0.0/S014/S014R07.edf...\n",
      "EDF file detected\n",
      "Setting channel info structure...\n",
      "Creating raw.info structure...\n",
      "Reading 0 ... 19679  =      0.000 ...   122.994 secs...\n",
      "Extracting EDF parameters from /home/nahuel/Documents/TESIS/DATA/mne_data/MNE-eegbci-data/files/eegmmidb/1.0.0/S014/S014R11.edf...\n",
      "EDF file detected\n",
      "Setting channel info structure...\n",
      "Creating raw.info structure...\n",
      "Reading 0 ... 19679  =      0.000 ...   122.994 secs...\n",
      "Extracting EDF parameters from /home/nahuel/Documents/TESIS/DATA/mne_data/MNE-eegbci-data/files/eegmmidb/1.0.0/S015/S015R03.edf...\n",
      "EDF file detected\n",
      "Setting channel info structure...\n",
      "Creating raw.info structure...\n",
      "Reading 0 ... 19679  =      0.000 ...   122.994 secs...\n",
      "Extracting EDF parameters from /home/nahuel/Documents/TESIS/DATA/mne_data/MNE-eegbci-data/files/eegmmidb/1.0.0/S015/S015R07.edf...\n",
      "EDF file detected\n",
      "Setting channel info structure...\n",
      "Creating raw.info structure...\n",
      "Reading 0 ... 19679  =      0.000 ...   122.994 secs...\n",
      "Extracting EDF parameters from /home/nahuel/Documents/TESIS/DATA/mne_data/MNE-eegbci-data/files/eegmmidb/1.0.0/S015/S015R11.edf...\n",
      "EDF file detected\n",
      "Setting channel info structure...\n",
      "Creating raw.info structure...\n",
      "Reading 0 ... 19679  =      0.000 ...   122.994 secs...\n",
      "Extracting EDF parameters from /home/nahuel/Documents/TESIS/DATA/mne_data/MNE-eegbci-data/files/eegmmidb/1.0.0/S016/S016R03.edf...\n",
      "EDF file detected\n",
      "Setting channel info structure...\n",
      "Creating raw.info structure...\n",
      "Reading 0 ... 19679  =      0.000 ...   122.994 secs...\n",
      "Extracting EDF parameters from /home/nahuel/Documents/TESIS/DATA/mne_data/MNE-eegbci-data/files/eegmmidb/1.0.0/S016/S016R07.edf...\n",
      "EDF file detected\n",
      "Setting channel info structure...\n",
      "Creating raw.info structure...\n",
      "Reading 0 ... 19679  =      0.000 ...   122.994 secs...\n",
      "Extracting EDF parameters from /home/nahuel/Documents/TESIS/DATA/mne_data/MNE-eegbci-data/files/eegmmidb/1.0.0/S016/S016R11.edf...\n",
      "EDF file detected\n",
      "Setting channel info structure...\n",
      "Creating raw.info structure...\n",
      "Reading 0 ... 19679  =      0.000 ...   122.994 secs...\n",
      "Extracting EDF parameters from /home/nahuel/Documents/TESIS/DATA/mne_data/MNE-eegbci-data/files/eegmmidb/1.0.0/S017/S017R03.edf...\n",
      "EDF file detected\n",
      "Setting channel info structure...\n",
      "Creating raw.info structure...\n",
      "Reading 0 ... 19679  =      0.000 ...   122.994 secs...\n",
      "Extracting EDF parameters from /home/nahuel/Documents/TESIS/DATA/mne_data/MNE-eegbci-data/files/eegmmidb/1.0.0/S017/S017R07.edf...\n",
      "EDF file detected\n",
      "Setting channel info structure...\n",
      "Creating raw.info structure...\n",
      "Reading 0 ... 19679  =      0.000 ...   122.994 secs...\n",
      "Extracting EDF parameters from /home/nahuel/Documents/TESIS/DATA/mne_data/MNE-eegbci-data/files/eegmmidb/1.0.0/S017/S017R11.edf...\n",
      "EDF file detected\n",
      "Setting channel info structure...\n",
      "Creating raw.info structure...\n",
      "Reading 0 ... 19679  =      0.000 ...   122.994 secs...\n",
      "Extracting EDF parameters from /home/nahuel/Documents/TESIS/DATA/mne_data/MNE-eegbci-data/files/eegmmidb/1.0.0/S018/S018R03.edf...\n",
      "EDF file detected\n",
      "Setting channel info structure...\n",
      "Creating raw.info structure...\n",
      "Reading 0 ... 19679  =      0.000 ...   122.994 secs...\n",
      "Extracting EDF parameters from /home/nahuel/Documents/TESIS/DATA/mne_data/MNE-eegbci-data/files/eegmmidb/1.0.0/S018/S018R07.edf...\n",
      "EDF file detected\n",
      "Setting channel info structure...\n",
      "Creating raw.info structure...\n",
      "Reading 0 ... 19679  =      0.000 ...   122.994 secs...\n",
      "Extracting EDF parameters from /home/nahuel/Documents/TESIS/DATA/mne_data/MNE-eegbci-data/files/eegmmidb/1.0.0/S018/S018R11.edf...\n",
      "EDF file detected\n",
      "Setting channel info structure...\n",
      "Creating raw.info structure...\n",
      "Reading 0 ... 19679  =      0.000 ...   122.994 secs...\n",
      "Extracting EDF parameters from /home/nahuel/Documents/TESIS/DATA/mne_data/MNE-eegbci-data/files/eegmmidb/1.0.0/S019/S019R03.edf...\n",
      "EDF file detected\n",
      "Setting channel info structure...\n",
      "Creating raw.info structure...\n",
      "Reading 0 ... 19679  =      0.000 ...   122.994 secs...\n",
      "Extracting EDF parameters from /home/nahuel/Documents/TESIS/DATA/mne_data/MNE-eegbci-data/files/eegmmidb/1.0.0/S019/S019R07.edf...\n",
      "EDF file detected\n",
      "Setting channel info structure...\n",
      "Creating raw.info structure...\n",
      "Reading 0 ... 19679  =      0.000 ...   122.994 secs...\n",
      "Extracting EDF parameters from /home/nahuel/Documents/TESIS/DATA/mne_data/MNE-eegbci-data/files/eegmmidb/1.0.0/S019/S019R11.edf...\n",
      "EDF file detected\n",
      "Setting channel info structure...\n",
      "Creating raw.info structure...\n",
      "Reading 0 ... 19679  =      0.000 ...   122.994 secs...\n",
      "Filtering raw data in 57 contiguous segments\n",
      "Setting up band-pass filter from 7 - 30 Hz\n",
      "\n",
      "FIR filter parameters\n",
      "---------------------\n",
      "Designing a one-pass, zero-phase, non-causal bandpass filter:\n",
      "- Windowed time-domain design (firwin) method\n",
      "- Hamming window with 0.0194 passband ripple and 53 dB stopband attenuation\n",
      "- Lower passband edge: 7.00\n",
      "- Lower transition bandwidth: 2.00 Hz (-6 dB cutoff frequency: 6.00 Hz)\n",
      "- Upper passband edge: 30.00 Hz\n",
      "- Upper transition bandwidth: 7.50 Hz (-6 dB cutoff frequency: 33.75 Hz)\n",
      "- Filter length: 265 samples (1.656 sec)\n",
      "\n"
     ]
    },
    {
     "data": {
      "text/plain": [
       "['/home/nahuel/Documents/TESIS/DATA/mne_data/MNE-eegbci-data/files/eegmmidb/1.0.0/S001/S001R03.edf',\n",
       " '/home/nahuel/Documents/TESIS/DATA/mne_data/MNE-eegbci-data/files/eegmmidb/1.0.0/S001/S001R07.edf',\n",
       " '/home/nahuel/Documents/TESIS/DATA/mne_data/MNE-eegbci-data/files/eegmmidb/1.0.0/S001/S001R11.edf',\n",
       " '/home/nahuel/Documents/TESIS/DATA/mne_data/MNE-eegbci-data/files/eegmmidb/1.0.0/S002/S002R03.edf',\n",
       " '/home/nahuel/Documents/TESIS/DATA/mne_data/MNE-eegbci-data/files/eegmmidb/1.0.0/S002/S002R07.edf',\n",
       " '/home/nahuel/Documents/TESIS/DATA/mne_data/MNE-eegbci-data/files/eegmmidb/1.0.0/S002/S002R11.edf',\n",
       " '/home/nahuel/Documents/TESIS/DATA/mne_data/MNE-eegbci-data/files/eegmmidb/1.0.0/S003/S003R03.edf',\n",
       " '/home/nahuel/Documents/TESIS/DATA/mne_data/MNE-eegbci-data/files/eegmmidb/1.0.0/S003/S003R07.edf',\n",
       " '/home/nahuel/Documents/TESIS/DATA/mne_data/MNE-eegbci-data/files/eegmmidb/1.0.0/S003/S003R11.edf',\n",
       " '/home/nahuel/Documents/TESIS/DATA/mne_data/MNE-eegbci-data/files/eegmmidb/1.0.0/S004/S004R03.edf',\n",
       " '/home/nahuel/Documents/TESIS/DATA/mne_data/MNE-eegbci-data/files/eegmmidb/1.0.0/S004/S004R07.edf',\n",
       " '/home/nahuel/Documents/TESIS/DATA/mne_data/MNE-eegbci-data/files/eegmmidb/1.0.0/S004/S004R11.edf',\n",
       " '/home/nahuel/Documents/TESIS/DATA/mne_data/MNE-eegbci-data/files/eegmmidb/1.0.0/S005/S005R03.edf',\n",
       " '/home/nahuel/Documents/TESIS/DATA/mne_data/MNE-eegbci-data/files/eegmmidb/1.0.0/S005/S005R07.edf',\n",
       " '/home/nahuel/Documents/TESIS/DATA/mne_data/MNE-eegbci-data/files/eegmmidb/1.0.0/S005/S005R11.edf',\n",
       " '/home/nahuel/Documents/TESIS/DATA/mne_data/MNE-eegbci-data/files/eegmmidb/1.0.0/S006/S006R03.edf',\n",
       " '/home/nahuel/Documents/TESIS/DATA/mne_data/MNE-eegbci-data/files/eegmmidb/1.0.0/S006/S006R07.edf',\n",
       " '/home/nahuel/Documents/TESIS/DATA/mne_data/MNE-eegbci-data/files/eegmmidb/1.0.0/S006/S006R11.edf',\n",
       " '/home/nahuel/Documents/TESIS/DATA/mne_data/MNE-eegbci-data/files/eegmmidb/1.0.0/S007/S007R03.edf',\n",
       " '/home/nahuel/Documents/TESIS/DATA/mne_data/MNE-eegbci-data/files/eegmmidb/1.0.0/S007/S007R07.edf',\n",
       " '/home/nahuel/Documents/TESIS/DATA/mne_data/MNE-eegbci-data/files/eegmmidb/1.0.0/S007/S007R11.edf',\n",
       " '/home/nahuel/Documents/TESIS/DATA/mne_data/MNE-eegbci-data/files/eegmmidb/1.0.0/S008/S008R03.edf',\n",
       " '/home/nahuel/Documents/TESIS/DATA/mne_data/MNE-eegbci-data/files/eegmmidb/1.0.0/S008/S008R07.edf',\n",
       " '/home/nahuel/Documents/TESIS/DATA/mne_data/MNE-eegbci-data/files/eegmmidb/1.0.0/S008/S008R11.edf',\n",
       " '/home/nahuel/Documents/TESIS/DATA/mne_data/MNE-eegbci-data/files/eegmmidb/1.0.0/S009/S009R03.edf',\n",
       " '/home/nahuel/Documents/TESIS/DATA/mne_data/MNE-eegbci-data/files/eegmmidb/1.0.0/S009/S009R07.edf',\n",
       " '/home/nahuel/Documents/TESIS/DATA/mne_data/MNE-eegbci-data/files/eegmmidb/1.0.0/S009/S009R11.edf',\n",
       " '/home/nahuel/Documents/TESIS/DATA/mne_data/MNE-eegbci-data/files/eegmmidb/1.0.0/S010/S010R03.edf',\n",
       " '/home/nahuel/Documents/TESIS/DATA/mne_data/MNE-eegbci-data/files/eegmmidb/1.0.0/S010/S010R07.edf',\n",
       " '/home/nahuel/Documents/TESIS/DATA/mne_data/MNE-eegbci-data/files/eegmmidb/1.0.0/S010/S010R11.edf',\n",
       " '/home/nahuel/Documents/TESIS/DATA/mne_data/MNE-eegbci-data/files/eegmmidb/1.0.0/S011/S011R03.edf',\n",
       " '/home/nahuel/Documents/TESIS/DATA/mne_data/MNE-eegbci-data/files/eegmmidb/1.0.0/S011/S011R07.edf',\n",
       " '/home/nahuel/Documents/TESIS/DATA/mne_data/MNE-eegbci-data/files/eegmmidb/1.0.0/S011/S011R11.edf',\n",
       " '/home/nahuel/Documents/TESIS/DATA/mne_data/MNE-eegbci-data/files/eegmmidb/1.0.0/S012/S012R03.edf',\n",
       " '/home/nahuel/Documents/TESIS/DATA/mne_data/MNE-eegbci-data/files/eegmmidb/1.0.0/S012/S012R07.edf',\n",
       " '/home/nahuel/Documents/TESIS/DATA/mne_data/MNE-eegbci-data/files/eegmmidb/1.0.0/S012/S012R11.edf',\n",
       " '/home/nahuel/Documents/TESIS/DATA/mne_data/MNE-eegbci-data/files/eegmmidb/1.0.0/S013/S013R03.edf',\n",
       " '/home/nahuel/Documents/TESIS/DATA/mne_data/MNE-eegbci-data/files/eegmmidb/1.0.0/S013/S013R07.edf',\n",
       " '/home/nahuel/Documents/TESIS/DATA/mne_data/MNE-eegbci-data/files/eegmmidb/1.0.0/S013/S013R11.edf',\n",
       " '/home/nahuel/Documents/TESIS/DATA/mne_data/MNE-eegbci-data/files/eegmmidb/1.0.0/S014/S014R03.edf',\n",
       " '/home/nahuel/Documents/TESIS/DATA/mne_data/MNE-eegbci-data/files/eegmmidb/1.0.0/S014/S014R07.edf',\n",
       " '/home/nahuel/Documents/TESIS/DATA/mne_data/MNE-eegbci-data/files/eegmmidb/1.0.0/S014/S014R11.edf',\n",
       " '/home/nahuel/Documents/TESIS/DATA/mne_data/MNE-eegbci-data/files/eegmmidb/1.0.0/S015/S015R03.edf',\n",
       " '/home/nahuel/Documents/TESIS/DATA/mne_data/MNE-eegbci-data/files/eegmmidb/1.0.0/S015/S015R07.edf',\n",
       " '/home/nahuel/Documents/TESIS/DATA/mne_data/MNE-eegbci-data/files/eegmmidb/1.0.0/S015/S015R11.edf',\n",
       " '/home/nahuel/Documents/TESIS/DATA/mne_data/MNE-eegbci-data/files/eegmmidb/1.0.0/S016/S016R03.edf',\n",
       " '/home/nahuel/Documents/TESIS/DATA/mne_data/MNE-eegbci-data/files/eegmmidb/1.0.0/S016/S016R07.edf',\n",
       " '/home/nahuel/Documents/TESIS/DATA/mne_data/MNE-eegbci-data/files/eegmmidb/1.0.0/S016/S016R11.edf',\n",
       " '/home/nahuel/Documents/TESIS/DATA/mne_data/MNE-eegbci-data/files/eegmmidb/1.0.0/S017/S017R03.edf',\n",
       " '/home/nahuel/Documents/TESIS/DATA/mne_data/MNE-eegbci-data/files/eegmmidb/1.0.0/S017/S017R07.edf',\n",
       " '/home/nahuel/Documents/TESIS/DATA/mne_data/MNE-eegbci-data/files/eegmmidb/1.0.0/S017/S017R11.edf',\n",
       " '/home/nahuel/Documents/TESIS/DATA/mne_data/MNE-eegbci-data/files/eegmmidb/1.0.0/S018/S018R03.edf',\n",
       " '/home/nahuel/Documents/TESIS/DATA/mne_data/MNE-eegbci-data/files/eegmmidb/1.0.0/S018/S018R07.edf',\n",
       " '/home/nahuel/Documents/TESIS/DATA/mne_data/MNE-eegbci-data/files/eegmmidb/1.0.0/S018/S018R11.edf',\n",
       " '/home/nahuel/Documents/TESIS/DATA/mne_data/MNE-eegbci-data/files/eegmmidb/1.0.0/S019/S019R03.edf',\n",
       " '/home/nahuel/Documents/TESIS/DATA/mne_data/MNE-eegbci-data/files/eegmmidb/1.0.0/S019/S019R07.edf',\n",
       " '/home/nahuel/Documents/TESIS/DATA/mne_data/MNE-eegbci-data/files/eegmmidb/1.0.0/S019/S019R11.edf']"
      ]
     },
     "execution_count": 2,
     "metadata": {},
     "output_type": "execute_result"
    }
   ],
   "source": [
    "# #############################################################################\n",
    "# # Set parameters and read data\n",
    "\n",
    "# avoid classification of evoked responses by using epochs that start 1s after\n",
    "# cue onset.\n",
    "tmin, tmax = -1., 4.\n",
    "event_id = dict(left=2, right=3)\n",
    "subject = 1\n",
    "runs = [3, 7, 11]  #Motor execution: left vs right hand\n",
    "\n",
    "raw_fnames=[]\n",
    "for subject in range(1, 20):\n",
    "    raw_fnames.extend( eegbci.load_data(subject,runs= runs) )\n",
    "\n",
    "raw = concatenate_raws([read_raw_edf(f, preload=True) for f in raw_fnames])\n",
    "eegbci.standardize(raw)  # set channel names\n",
    "montage = make_standard_montage('standard_1005')\n",
    "raw.set_montage(montage)\n",
    "\n",
    "# Apply band-pass filter\n",
    "raw.filter(7., 30., fir_design='firwin', skip_by_annotation='edge')\n",
    "\n",
    "raw_fnames"
   ]
  },
  {
   "cell_type": "code",
   "execution_count": 3,
   "metadata": {},
   "outputs": [
    {
     "data": {
      "text/html": [
       "\n",
       "\n",
       "<table class=\"table table-hover table-striped table-sm table-responsive small\">\n",
       "    <tr>\n",
       "        <th>Measurement date</th>\n",
       "        <td>August 12, 2009  16:15:00 GMT</td>\n",
       "        \n",
       "    </tr>\n",
       "    <tr>\n",
       "        <th>Experimenter</th>\n",
       "<td>Unknown</td>\n",
       "    </tr>\n",
       "        <th>Participant</th>\n",
       "<td>Unknown</td>\n",
       "    </tr>\n",
       "    <tr>\n",
       "        <th>Digitized points</th>\n",
       "        <td>67 points</td>\n",
       "    </tr>\n",
       "    <tr>\n",
       "        <th>Good channels</th>\n",
       "        <td>8 EEG</td>\n",
       "    </tr>\n",
       "    <tr>\n",
       "        <th>Bad channels</th>\n",
       "        <td>None</td>\n",
       "    </tr>\n",
       "    <tr>\n",
       "        <th>EOG channels</th>\n",
       "        <td>Not available</td>\n",
       "    </tr>\n",
       "    <tr>\n",
       "        <th>ECG channels</th>\n",
       "        <td>Not available</td>\n",
       "    <tr>\n",
       "        <th>Sampling frequency</th>\n",
       "        <td>160.00 Hz</td>\n",
       "    </tr>\n",
       "    <tr>\n",
       "        <th>Highpass</th>\n",
       "        <td>7.00 Hz</td>\n",
       "    </tr>\n",
       "    <tr>\n",
       "        <th>Lowpass</th>\n",
       "        <td>30.00 Hz</td>\n",
       "    </tr>\n",
       "\n",
       "    <tr>\n",
       "        <th>Filenames</th>\n",
       "        <td>S001R03.edf<br>S001R07.edf<br>S001R11.edf<br>S002R03.edf<br>S002R07.edf<br>S002R11.edf<br>S003R03.edf<br>S003R07.edf<br>S003R11.edf<br>S004R03.edf<br>S004R07.edf<br>S004R11.edf<br>S005R03.edf<br>S005R07.edf<br>S005R11.edf<br>S006R03.edf<br>S006R07.edf<br>S006R11.edf<br>S007R03.edf<br>S007R07.edf<br>S007R11.edf<br>S008R03.edf<br>S008R07.edf<br>S008R11.edf<br>S009R03.edf<br>S009R07.edf<br>S009R11.edf<br>S010R03.edf<br>S010R07.edf<br>S010R11.edf<br>S011R03.edf<br>S011R07.edf<br>S011R11.edf<br>S012R03.edf<br>S012R07.edf<br>S012R11.edf<br>S013R03.edf<br>S013R07.edf<br>S013R11.edf<br>S014R03.edf<br>S014R07.edf<br>S014R11.edf<br>S015R03.edf<br>S015R07.edf<br>S015R11.edf<br>S016R03.edf<br>S016R07.edf<br>S016R11.edf<br>S017R03.edf<br>S017R07.edf<br>S017R11.edf<br>S018R03.edf<br>S018R07.edf<br>S018R11.edf<br>S019R03.edf<br>S019R07.edf<br>S019R11.edf</td>\n",
       "    </tr>\n",
       "    <tr>\n",
       "        <th>Duration</th>\n",
       "        <td>01:57:08 (HH:MM:SS)</td>\n",
       "    </tr>\n",
       "</table>\n"
      ],
      "text/plain": [
       "<RawEDF | S001R03.edf, 8 x 1124640 (7029.0 s), ~68.7 MB, data loaded>"
      ]
     },
     "execution_count": 3,
     "metadata": {},
     "output_type": "execute_result"
    }
   ],
   "source": [
    "\n",
    "#filtrar channles\n",
    "raw.pick_channels(ch_names=['C3','Cz','C4','P3','Pz','P4','O1','O2'])\n"
   ]
  },
  {
   "cell_type": "code",
   "execution_count": 12,
   "metadata": {},
   "outputs": [
    {
     "name": "stdout",
     "output_type": "stream",
     "text": [
      "Using matplotlib as 2D backend.\n"
     ]
    },
    {
     "data": {
      "text/plain": [
       "<MNEBrowseFigure size 1600x1600 with 4 Axes>"
      ]
     },
     "execution_count": 12,
     "metadata": {},
     "output_type": "execute_result"
    },
    {
     "name": "stdout",
     "output_type": "stream",
     "text": [
      "Channels marked as bad: none\n"
     ]
    }
   ],
   "source": [
    "raw.plot(scalings=None, n_channels=8, events=events)"
   ]
  },
  {
   "cell_type": "code",
   "execution_count": 4,
   "metadata": {},
   "outputs": [
    {
     "name": "stdout",
     "output_type": "stream",
     "text": [
      "Used Annotations descriptions: ['T1', 'T2']\n"
     ]
    }
   ],
   "source": [
    "events, _ = events_from_annotations(raw, event_id=dict(T1=2, T2=3))\n"
   ]
  },
  {
   "cell_type": "code",
   "execution_count": 5,
   "metadata": {},
   "outputs": [
    {
     "name": "stdout",
     "output_type": "stream",
     "text": [
      "Not setting metadata\n",
      "Not setting metadata\n",
      "855 matching events found\n",
      "No baseline correction applied\n",
      "0 projection items activated\n",
      "Loading data for 855 events and 801 original time points ...\n",
      "0 bad epochs dropped\n"
     ]
    }
   ],
   "source": [
    "picks = pick_types(raw.info, meg=False, eeg=True, stim=False, eog=False,\n",
    "                   exclude='bads')\n",
    "\n",
    "# Read epochs (train will be done only between 1 and 2s)\n",
    "# Testing will be done with a running classifier\n",
    "epochs = Epochs(raw, events, event_id, tmin, tmax, proj=True, picks=picks,\n",
    "                baseline=None, preload=True)\n",
    "epochs_train = epochs.copy().crop(tmin=0.5, tmax=1.5)\n",
    "labels = epochs.events[:, -1] - 2\n"
   ]
  },
  {
   "cell_type": "code",
   "execution_count": 6,
   "metadata": {},
   "outputs": [],
   "source": [
    "e0= epochs_train[epochs.events[:,2]==2]\n",
    "e1= epochs_train[epochs.events[:,2]==3]\n",
    "evoked_left = e0.average()\n",
    "evoked_right = e1.average()"
   ]
  },
  {
   "cell_type": "code",
   "execution_count": 11,
   "metadata": {},
   "outputs": [
    {
     "name": "stdout",
     "output_type": "stream",
     "text": [
      "    Using multitaper spectrum estimation with 7 DPSS windows\n"
     ]
    },
    {
     "data": {
      "text/plain": [
       "<MNELineFigure size 1920x700 with 2 Axes>"
      ]
     },
     "execution_count": 11,
     "metadata": {},
     "output_type": "execute_result"
    }
   ],
   "source": [
    "e0.plot_psd(picks=['C3','C4'], fmax=50)"
   ]
  },
  {
   "cell_type": "code",
   "execution_count": 12,
   "metadata": {},
   "outputs": [
    {
     "name": "stdout",
     "output_type": "stream",
     "text": [
      "    Using multitaper spectrum estimation with 7 DPSS windows\n"
     ]
    },
    {
     "data": {
      "text/plain": [
       "<MNELineFigure size 1920x700 with 2 Axes>"
      ]
     },
     "execution_count": 12,
     "metadata": {},
     "output_type": "execute_result"
    }
   ],
   "source": [
    "e1.plot_psd(picks=['C3','C4'], fmax=50)"
   ]
  },
  {
   "cell_type": "code",
   "execution_count": 13,
   "metadata": {},
   "outputs": [
    {
     "data": {
      "text/plain": [
       "<Figure size 1280x600 with 1 Axes>"
      ]
     },
     "execution_count": 13,
     "metadata": {},
     "output_type": "execute_result"
    }
   ],
   "source": [
    "evoked_left.plot(window_title='left', gfp=True, time_unit='s', scalings=None)"
   ]
  },
  {
   "cell_type": "code",
   "execution_count": 14,
   "metadata": {},
   "outputs": [
    {
     "data": {
      "text/plain": [
       "<Figure size 1280x600 with 1 Axes>"
      ]
     },
     "execution_count": 14,
     "metadata": {},
     "output_type": "execute_result"
    }
   ],
   "source": [
    "evoked_right.plot(window_title='right', gfp=True, time_unit='s', scalings=None)"
   ]
  },
  {
   "cell_type": "code",
   "execution_count": 9,
   "metadata": {
    "scrolled": true
   },
   "outputs": [
    {
     "data": {
      "text/plain": [
       "<MNEFigure size 1800x590 with 6 Axes>"
      ]
     },
     "execution_count": 9,
     "metadata": {},
     "output_type": "execute_result"
    }
   ],
   "source": [
    "evoked_left.plot_topomap(times=[0.5, 0.625, 0.75, 0.875, 1], ch_type='eeg', vmin=-5, vmax=5, title='left')"
   ]
  },
  {
   "cell_type": "code",
   "execution_count": 10,
   "metadata": {},
   "outputs": [
    {
     "data": {
      "text/plain": [
       "<MNEFigure size 1800x590 with 6 Axes>"
      ]
     },
     "execution_count": 10,
     "metadata": {},
     "output_type": "execute_result"
    }
   ],
   "source": [
    "evoked_right.plot_topomap(times=[0.5, 0.625, 0.75, 0.875, 1], ch_type='eeg', vmin=-5, vmax=5, title='right')"
   ]
  }
 ],
 "metadata": {
  "kernelspec": {
   "display_name": "Python 3",
   "language": "python",
   "name": "python3"
  },
  "language_info": {
   "codemirror_mode": {
    "name": "ipython",
    "version": 3
   },
   "file_extension": ".py",
   "mimetype": "text/x-python",
   "name": "python",
   "nbconvert_exporter": "python",
   "pygments_lexer": "ipython3",
   "version": "3.8.5"
  }
 },
 "nbformat": 4,
 "nbformat_minor": 4
}
