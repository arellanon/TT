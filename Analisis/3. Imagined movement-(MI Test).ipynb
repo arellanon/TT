{
 "cells": [
  {
   "cell_type": "markdown",
   "metadata": {},
   "source": [
    "# 3. Imagined movement\n",
    "\n",
    "In this tutorial we will look at imagined movement. Our movement is controlled in the motor cortex where there is an increased level of mu activity (8–12 Hz) when we perform movements. This is accompanied by a reduction of this mu activity in specific regions that deal with the limb that is currently moving. This decrease is called Event Related Desynchronization (ERD). By measuring the amount of mu activity at different locations on the motor cortex, we can determine which limb the subject is moving. Through mirror neurons, this effect also occurs when the subject is not actually moving his limbs, but merely imagining it.\n",
    "\n",
    "## Credits\n",
    "The CSP code was originally written by Boris Reuderink of the Donders\n",
    "Institute for Brain, Cognition and Behavior. It is part of his Python EEG\n",
    "toolbox: https://github.com/breuderink/eegtools\n",
    "\n",
    "Inspiration for this tutorial also came from the excellent code example\n",
    "given in the book chapter:\n",
    " \n",
    "Arnaud Delorme, Christian Kothe, Andrey Vankov, Nima Bigdely-Shamlo,\n",
    "Robert Oostenveld, Thorsten Zander, and Scott Makeig. MATLAB-Based Tools\n",
    "for BCI Research, In _(B+H)CI: The Human in Brain-Computer Interfaces and\n",
    "the Brain in Human-Computer Interaction._ Desney S. Tan and Anton Nijholt\n",
    "(eds.), 2009, 241-259, http://dx.doi.org/10.1007/978-1-84996-272-8\n",
    "\n",
    "## About the data\n",
    "The dataset for this tutorial is provided by the fourth BCI competition.\n",
    "Before you continue with this tutorial, please, go to http://www.bbci.de/competition/iv/#download\n",
    "and fill in your name and email address.\n",
    "You don't need to actually download the data, since it is installed in the virtual server already, but this way, the wonderful organizers of the competition get notified that their data is still being used and by whom.\n",
    "\n",
    "[Description of the data](http://bbci.de/competition/iv/desc_1.html)"
   ]
  },
  {
   "cell_type": "code",
   "execution_count": 1,
   "metadata": {},
   "outputs": [
    {
     "name": "stdout",
     "output_type": "stream",
     "text": [
      "Populating the interactive namespace from numpy and matplotlib\n"
     ]
    }
   ],
   "source": [
    "%pylab inline"
   ]
  },
  {
   "cell_type": "markdown",
   "metadata": {},
   "source": [
    "Executing the code cell below will load the data:"
   ]
  },
  {
   "cell_type": "code",
   "execution_count": 2,
   "metadata": {},
   "outputs": [],
   "source": [
    "import numpy as np\n",
    "import scipy.io\n",
    "\n",
    "m = scipy.io.loadmat('data/BCICIV_calib_ds1d.mat', struct_as_record=True)\n",
    "\n",
    "# SciPy.io.loadmat does not deal well with Matlab structures, resulting in lots of\n",
    "# extra dimensions in the arrays. This makes the code a bit more cluttered\n",
    "\n",
    "sample_rate = m['nfo']['fs'][0][0][0][0]\n",
    "EEG = m['cnt'].T\n",
    "nchannels, nsamples = EEG.shape\n",
    "\n",
    "channel_names = [s[0] for s in m['nfo']['clab'][0][0][0]]\n",
    "event_onsets = m['mrk'][0][0][0]\n",
    "event_codes = m['mrk'][0][0][1]\n",
    "labels = np.zeros((1, nsamples), int)\n",
    "labels[0, event_onsets] = event_codes\n",
    "\n",
    "cl_lab = [s[0] for s in m['nfo']['classes'][0][0][0]]\n",
    "cl1 = cl_lab[0]\n",
    "cl2 = cl_lab[1]\n",
    "nclasses = len(cl_lab)\n",
    "nevents = len(event_onsets)"
   ]
  },
  {
   "cell_type": "code",
   "execution_count": 3,
   "metadata": {},
   "outputs": [
    {
     "data": {
      "text/plain": [
       "array([[(array([[100]], dtype=uint8), array([[array(['left'], dtype='<U4'), array(['right'], dtype='<U5')]],\n",
       "              dtype=object), array([[array(['AF3'], dtype='<U3'), array(['AF4'], dtype='<U3'),\n",
       "                array(['F5'], dtype='<U2'), array(['F3'], dtype='<U2'),\n",
       "                array(['F1'], dtype='<U2'), array(['Fz'], dtype='<U2'),\n",
       "                array(['F2'], dtype='<U2'), array(['F4'], dtype='<U2'),\n",
       "                array(['F6'], dtype='<U2'), array(['FC5'], dtype='<U3'),\n",
       "                array(['FC3'], dtype='<U3'), array(['FC1'], dtype='<U3'),\n",
       "                array(['FCz'], dtype='<U3'), array(['FC2'], dtype='<U3'),\n",
       "                array(['FC4'], dtype='<U3'), array(['FC6'], dtype='<U3'),\n",
       "                array(['CFC7'], dtype='<U4'), array(['CFC5'], dtype='<U4'),\n",
       "                array(['CFC3'], dtype='<U4'), array(['CFC1'], dtype='<U4'),\n",
       "                array(['CFC2'], dtype='<U4'), array(['CFC4'], dtype='<U4'),\n",
       "                array(['CFC6'], dtype='<U4'), array(['CFC8'], dtype='<U4'),\n",
       "                array(['T7'], dtype='<U2'), array(['C5'], dtype='<U2'),\n",
       "                array(['C3'], dtype='<U2'), array(['C1'], dtype='<U2'),\n",
       "                array(['Cz'], dtype='<U2'), array(['C2'], dtype='<U2'),\n",
       "                array(['C4'], dtype='<U2'), array(['C6'], dtype='<U2'),\n",
       "                array(['T8'], dtype='<U2'), array(['CCP7'], dtype='<U4'),\n",
       "                array(['CCP5'], dtype='<U4'), array(['CCP3'], dtype='<U4'),\n",
       "                array(['CCP1'], dtype='<U4'), array(['CCP2'], dtype='<U4'),\n",
       "                array(['CCP4'], dtype='<U4'), array(['CCP6'], dtype='<U4'),\n",
       "                array(['CCP8'], dtype='<U4'), array(['CP5'], dtype='<U3'),\n",
       "                array(['CP3'], dtype='<U3'), array(['CP1'], dtype='<U3'),\n",
       "                array(['CPz'], dtype='<U3'), array(['CP2'], dtype='<U3'),\n",
       "                array(['CP4'], dtype='<U3'), array(['CP6'], dtype='<U3'),\n",
       "                array(['P5'], dtype='<U2'), array(['P3'], dtype='<U2'),\n",
       "                array(['P1'], dtype='<U2'), array(['Pz'], dtype='<U2'),\n",
       "                array(['P2'], dtype='<U2'), array(['P4'], dtype='<U2'),\n",
       "                array(['P6'], dtype='<U2'), array(['PO1'], dtype='<U3'),\n",
       "                array(['PO2'], dtype='<U3'), array(['O1'], dtype='<U2'),\n",
       "                array(['O2'], dtype='<U2')]], dtype=object), array([[-0.20109028],\n",
       "               [ 0.20109028],\n",
       "               [-0.48547489],\n",
       "               [-0.32894737],\n",
       "               [-0.16535231],\n",
       "               [ 0.        ],\n",
       "               [ 0.16535231],\n",
       "               [ 0.32894737],\n",
       "               [ 0.48547489],\n",
       "               [-0.60591541],\n",
       "               [-0.39919579],\n",
       "               [-0.19765935],\n",
       "               [ 0.        ],\n",
       "               [ 0.19765935],\n",
       "               [ 0.39919579],\n",
       "               [ 0.60591541],\n",
       "               [-0.74834683],\n",
       "               [-0.52472976],\n",
       "               [-0.30963911],\n",
       "               [-0.10226303],\n",
       "               [ 0.10226303],\n",
       "               [ 0.30963911],\n",
       "               [ 0.52472976],\n",
       "               [ 0.74834683],\n",
       "               [-0.87719298],\n",
       "               [-0.64569058],\n",
       "               [-0.421549  ],\n",
       "               [-0.20773757],\n",
       "               [ 0.        ],\n",
       "               [ 0.20773757],\n",
       "               [ 0.421549  ],\n",
       "               [ 0.64569058],\n",
       "               [ 0.87719298],\n",
       "               [-0.74834683],\n",
       "               [-0.52472976],\n",
       "               [-0.30963911],\n",
       "               [-0.10226303],\n",
       "               [ 0.10226303],\n",
       "               [ 0.30963911],\n",
       "               [ 0.52472976],\n",
       "               [ 0.74834683],\n",
       "               [-0.60591541],\n",
       "               [-0.39919579],\n",
       "               [-0.19765935],\n",
       "               [ 0.        ],\n",
       "               [ 0.19765935],\n",
       "               [ 0.39919579],\n",
       "               [ 0.60591541],\n",
       "               [-0.48547489],\n",
       "               [-0.32894737],\n",
       "               [-0.16535231],\n",
       "               [ 0.        ],\n",
       "               [ 0.16535231],\n",
       "               [ 0.32894737],\n",
       "               [ 0.48547489],\n",
       "               [-0.10395865],\n",
       "               [ 0.10395865],\n",
       "               [-0.17113186],\n",
       "               [ 0.17113186]]), array([[ 0.68656518],\n",
       "               [ 0.68656518],\n",
       "               [ 0.52547424],\n",
       "               [ 0.46520183],\n",
       "               [ 0.43208641],\n",
       "               [ 0.421549  ],\n",
       "               [ 0.43208641],\n",
       "               [ 0.46520183],\n",
       "               [ 0.52547424],\n",
       "               [ 0.27165704],\n",
       "               [ 0.23384348],\n",
       "               [ 0.21394494],\n",
       "               [ 0.20773757],\n",
       "               [ 0.21394494],\n",
       "               [ 0.23384348],\n",
       "               [ 0.27165704],\n",
       "               [ 0.15177169],\n",
       "               [ 0.12553103],\n",
       "               [ 0.11086096],\n",
       "               [ 0.10426648],\n",
       "               [ 0.10426648],\n",
       "               [ 0.11086096],\n",
       "               [ 0.12553103],\n",
       "               [ 0.15177169],\n",
       "               [ 0.        ],\n",
       "               [ 0.        ],\n",
       "               [ 0.        ],\n",
       "               [ 0.        ],\n",
       "               [ 0.        ],\n",
       "               [ 0.        ],\n",
       "               [ 0.        ],\n",
       "               [ 0.        ],\n",
       "               [ 0.        ],\n",
       "               [-0.15177169],\n",
       "               [-0.12553103],\n",
       "               [-0.11086096],\n",
       "               [-0.10426648],\n",
       "               [-0.10426648],\n",
       "               [-0.11086096],\n",
       "               [-0.12553103],\n",
       "               [-0.15177169],\n",
       "               [-0.27165704],\n",
       "               [-0.23384348],\n",
       "               [-0.21394494],\n",
       "               [-0.20773757],\n",
       "               [-0.21394494],\n",
       "               [-0.23384348],\n",
       "               [-0.27165704],\n",
       "               [-0.52547424],\n",
       "               [-0.46520183],\n",
       "               [-0.43208641],\n",
       "               [-0.421549  ],\n",
       "               [-0.43208641],\n",
       "               [-0.46520183],\n",
       "               [-0.52547424],\n",
       "               [-0.65583812],\n",
       "               [-0.65583812],\n",
       "               [-0.86033797],\n",
       "               [-0.86033797]]))                                                                             ]],\n",
       "      dtype=[('fs', 'O'), ('classes', 'O'), ('clab', 'O'), ('xpos', 'O'), ('ypos', 'O')])"
      ]
     },
     "execution_count": 3,
     "metadata": {},
     "output_type": "execute_result"
    }
   ],
   "source": [
    "m['nfo']"
   ]
  },
  {
   "cell_type": "markdown",
   "metadata": {},
   "source": [
    "Now we have the data in the following python variables:"
   ]
  },
  {
   "cell_type": "code",
   "execution_count": 4,
   "metadata": {},
   "outputs": [
    {
     "name": "stdout",
     "output_type": "stream",
     "text": [
      "Shape of EEG: (59, 190473)\n",
      "Sample rate: 100\n",
      "Number of channels: 59\n",
      "Channel names: ['AF3', 'AF4', 'F5', 'F3', 'F1', 'Fz', 'F2', 'F4', 'F6', 'FC5', 'FC3', 'FC1', 'FCz', 'FC2', 'FC4', 'FC6', 'CFC7', 'CFC5', 'CFC3', 'CFC1', 'CFC2', 'CFC4', 'CFC6', 'CFC8', 'T7', 'C5', 'C3', 'C1', 'Cz', 'C2', 'C4', 'C6', 'T8', 'CCP7', 'CCP5', 'CCP3', 'CCP1', 'CCP2', 'CCP4', 'CCP6', 'CCP8', 'CP5', 'CP3', 'CP1', 'CPz', 'CP2', 'CP4', 'CP6', 'P5', 'P3', 'P1', 'Pz', 'P2', 'P4', 'P6', 'PO1', 'PO2', 'O1', 'O2']\n",
      "Number of events: 1\n",
      "Event codes: [-1  1]\n",
      "Class labels: ['left', 'right']\n",
      "Number of classes: 2\n"
     ]
    }
   ],
   "source": [
    "# Print some information\n",
    "print('Shape of EEG:', EEG.shape)\n",
    "print('Sample rate:', sample_rate)\n",
    "print('Number of channels:', nchannels)\n",
    "print('Channel names:', channel_names)\n",
    "print('Number of events:', len(event_onsets))\n",
    "print('Event codes:', np.unique(event_codes))\n",
    "print('Class labels:', cl_lab)\n",
    "print('Number of classes:', nclasses)"
   ]
  },
  {
   "cell_type": "markdown",
   "metadata": {},
   "source": [
    "This is a large recording: 59 electrodes where used, spread across the entire scalp. The subject was given a cue and then imagined either right hand movement or the movement of his feet. As can be seen from the [Homunculus](http://en.wikipedia.org/wiki/Cortical_homunculus), foot movement is controlled at the center of the motor cortex (which makes it hard to distinguish left from right foot), while hand movement is controlled more lateral.\n",
    "\n"
   ]
  },
  {
   "cell_type": "markdown",
   "metadata": {},
   "source": [
    "## Plotting the data\n",
    "\n",
    "The code below cuts trials for the two classes and should look familiar if you've completed the previous tutorials. Trials are cut in the interval [0.5–2.5 s] after the onset of the cue."
   ]
  },
  {
   "cell_type": "code",
   "execution_count": 5,
   "metadata": {},
   "outputs": [
    {
     "name": "stdout",
     "output_type": "stream",
     "text": [
      "Shape of trials[cl1]: (100, 59, 200)\n",
      "Shape of trials[cl2]: (100, 59, 200)\n"
     ]
    }
   ],
   "source": [
    "# Dictionary to store the trials in, each class gets an entry\n",
    "trials = {}\n",
    "\n",
    "# The time window (in samples) to extract for each trial, here 0.5 -- 2.5 seconds\n",
    "win = np.arange(int(0.5*sample_rate), int(2.5*sample_rate))\n",
    "\n",
    "# Length of the time window\n",
    "nsamples = len(win)\n",
    "\n",
    "# Loop over the classes (right, foot)\n",
    "for cl, code in zip(cl_lab, np.unique(event_codes)):\n",
    "    \n",
    "    # Extract the onsets for the class\n",
    "    cl_onsets = event_onsets[event_codes == code]\n",
    "    \n",
    "    # Allocate memory for the trials\n",
    "    trials[cl] = np.zeros((len(cl_onsets),nchannels,nsamples))\n",
    "    \n",
    "    # Extract each trial\n",
    "    for i, onset in enumerate(cl_onsets):\n",
    "        trials[cl][i,:,:] = EEG[:, win+onset]\n",
    "  \n",
    "# Some information about the dimensionality of the data (channels x time x trials)\n",
    "print('Shape of trials[cl1]:', trials[cl1].shape)\n",
    "print('Shape of trials[cl2]:', trials[cl2].shape)"
   ]
  },
  {
   "cell_type": "code",
   "execution_count": 6,
   "metadata": {},
   "outputs": [
    {
     "data": {
      "text/plain": [
       "(59, 190473)"
      ]
     },
     "execution_count": 6,
     "metadata": {},
     "output_type": "execute_result"
    }
   ],
   "source": [
    "EEG.shape\n",
    "#(59, 200, 100)"
   ]
  },
  {
   "cell_type": "markdown",
   "metadata": {},
   "source": [
    "\n",
    "\n",
    "Since the feature we're looking for (a decrease in $\\mu$-activity) is a frequency feature, lets plot the PSD of the trials in a similar manner as with the SSVEP data. The code below defines a function that computes the PSD for each trial (we're going to need it again later on):"
   ]
  },
  {
   "cell_type": "code",
   "execution_count": 7,
   "metadata": {},
   "outputs": [],
   "source": [
    "from matplotlib import mlab\n",
    "\n",
    "def psd_bkp(trials):\n",
    "    '''\n",
    "    Calculates for each trial the Power Spectral Density (PSD).\n",
    "    \n",
    "    Parameters\n",
    "    ----------\n",
    "    trials : 3d-array (channels x samples x trials)\n",
    "        The EEG signal\n",
    "    \n",
    "    Returns\n",
    "    -------\n",
    "    trial_PSD : 3d-array (channels x PSD x trials)\n",
    "        the PSD for each trial.  \n",
    "    freqs : list of floats\n",
    "        The frequencies for which the PSD was computed (useful for plotting later)\n",
    "    '''\n",
    "    \n",
    "    ntrials = trials.shape[2]\n",
    "    trials_PSD = np.zeros((nchannels, 101, ntrials))\n",
    "\n",
    "    # Iterate over trials and channels\n",
    "    for trial in range(ntrials):\n",
    "        for ch in range(nchannels):\n",
    "            # Calculate the PSD\n",
    "            (PSD, freqs) = mlab.psd(trials[ch,:,trial], NFFT=int(nsamples), Fs=sample_rate)\n",
    "            trials_PSD[ch, :, trial] = PSD.ravel()\n",
    "                \n",
    "    return trials_PSD, freqs"
   ]
  },
  {
   "cell_type": "code",
   "execution_count": 8,
   "metadata": {},
   "outputs": [],
   "source": [
    "from matplotlib import mlab\n",
    "\n",
    "def psd(trials):\n",
    "    '''\n",
    "    Calculates for each trial the Power Spectral Density (PSD).\n",
    "    \n",
    "    Parameters\n",
    "    ----------\n",
    "    trials : 3d-array (trials x channels x samples)\n",
    "        The EEG signal\n",
    "    \n",
    "    Returns\n",
    "    -------\n",
    "    trial_PSD : 3d-array (trials x channels x PSD)\n",
    "        the PSD for each trial.  \n",
    "    freqs : list of floats\n",
    "        The frequencies for which the PSD was computed (useful for plotting later)\n",
    "    '''\n",
    "    \n",
    "    ntrials = trials.shape[0]\n",
    "    trials_PSD = np.zeros((ntrials, nchannels, 101))\n",
    "\n",
    "    # Iterate over trials and channels\n",
    "    for trial in range(ntrials):\n",
    "        for ch in range(nchannels):\n",
    "            # Calculate the PSD\n",
    "            (PSD, freqs) = mlab.psd(trials[trial,ch,:], NFFT=int(nsamples), Fs=sample_rate)\n",
    "            trials_PSD[trial, ch, :] = PSD.ravel()\n",
    "                \n",
    "    return trials_PSD, freqs"
   ]
  },
  {
   "cell_type": "code",
   "execution_count": 9,
   "metadata": {},
   "outputs": [],
   "source": [
    "# Apply the function\n",
    "psd_r, freqs = psd(trials[cl1])\n",
    "psd_f, freqs = psd(trials[cl2])\n",
    "trials_PSD = {cl1: psd_r, cl2: psd_f}"
   ]
  },
  {
   "cell_type": "code",
   "execution_count": 10,
   "metadata": {},
   "outputs": [
    {
     "data": {
      "text/plain": [
       "200"
      ]
     },
     "execution_count": 10,
     "metadata": {},
     "output_type": "execute_result"
    }
   ],
   "source": [
    "nsamples"
   ]
  },
  {
   "cell_type": "code",
   "execution_count": 11,
   "metadata": {},
   "outputs": [
    {
     "data": {
      "text/plain": [
       "(100, 59, 200)"
      ]
     },
     "execution_count": 11,
     "metadata": {},
     "output_type": "execute_result"
    }
   ],
   "source": [
    "trials[cl1].shape"
   ]
  },
  {
   "cell_type": "code",
   "execution_count": 12,
   "metadata": {},
   "outputs": [
    {
     "data": {
      "text/plain": [
       "(100, 59, 101)"
      ]
     },
     "execution_count": 12,
     "metadata": {},
     "output_type": "execute_result"
    }
   ],
   "source": [
    "trials_PSD[cl1].shape"
   ]
  },
  {
   "cell_type": "markdown",
   "metadata": {},
   "source": [
    "The function below plots the PSDs that are calculated with the above function. Since plotting it for 118 channels will clutter the display, it takes the indices of the desired channels as input, as well as some metadata to decorate the plot."
   ]
  },
  {
   "cell_type": "code",
   "execution_count": 13,
   "metadata": {},
   "outputs": [],
   "source": [
    "import matplotlib.pyplot as plt\n",
    "\n",
    "def plot_psd(trials_PSD, freqs, chan_ind, chan_lab=None, maxy=None):\n",
    "    '''\n",
    "    Plots PSD data calculated with psd().\n",
    "    \n",
    "    Parameters\n",
    "    ----------\n",
    "    trials : 3d-array\n",
    "        The PSD data, as returned by psd()\n",
    "    freqs : list of floats\n",
    "        The frequencies for which the PSD is defined, as returned by psd() \n",
    "    chan_ind : list of integers\n",
    "        The indices of the channels to plot\n",
    "    chan_lab : list of strings\n",
    "        (optional) List of names for each channel\n",
    "    maxy : float\n",
    "        (optional) Limit the y-axis to this value\n",
    "    '''\n",
    "    plt.figure(figsize=(12,5))\n",
    "    \n",
    "    nchans = len(chan_ind)\n",
    "    \n",
    "    # Maximum of 3 plots per row\n",
    "    nrows = int(np.ceil(nchans / 3))\n",
    "    ncols = min(3, nchans)\n",
    "    \n",
    "    # Enumerate over the channels\n",
    "    for i,ch in enumerate(chan_ind):\n",
    "        # Figure out which subplot to draw to\n",
    "        plt.subplot(nrows,ncols,i+1)\n",
    "    \n",
    "        # Plot the PSD for each class\n",
    "        for cl in trials.keys():\n",
    "            plt.plot(freqs, np.mean(trials_PSD[cl][:,ch,:], axis=0), label=cl)\n",
    "    \n",
    "        # All plot decoration below...\n",
    "        \n",
    "        plt.xlim(1,30)\n",
    "        \n",
    "        if maxy != None:\n",
    "            plt.ylim(0,maxy)\n",
    "    \n",
    "        plt.grid()\n",
    "    \n",
    "        plt.xlabel('Frequency (Hz)')\n",
    "        \n",
    "        if chan_lab == None:\n",
    "            plt.title('Channel %d' % (ch+1))\n",
    "        else:\n",
    "            plt.title(chan_lab[i])\n",
    "\n",
    "        plt.legend()\n",
    "        \n",
    "    plt.tight_layout()"
   ]
  },
  {
   "cell_type": "markdown",
   "metadata": {},
   "source": [
    "Lets put the `plot_psd()` function to use and plot three channels:\n",
    "\n",
    " 1. C3: Central, left\n",
    " 2. Cz: Central, central\n",
    " 3. C4: Central, right"
   ]
  },
  {
   "cell_type": "code",
   "execution_count": 14,
   "metadata": {},
   "outputs": [
    {
     "data": {
      "image/png": "[encoded data removed]",
      "text/plain": [
       "<Figure size 864x360 with 3 Axes>"
      ]
     },
     "metadata": {
      "needs_background": "light"
     },
     "output_type": "display_data"
    }
   ],
   "source": [
    "plot_psd(\n",
    "    trials_PSD,\n",
    "    freqs,\n",
    "    [channel_names.index(ch) for ch in ['C3', 'Cz', 'C4']],\n",
    "    chan_lab=['left', 'center', 'right'],\n",
    "    maxy=500\n",
    ")"
   ]
  },
  {
   "cell_type": "markdown",
   "metadata": {},
   "source": [
    "A spike of mu activity can be seen on each channel for both classes. At the right hemisphere, the mu for the left hand movement is lower than for the right hand movement due to the ERD. At the left electrode, the mu for the right hand movement is reduced and at the central electrode the mu activity is about equal for both classes. This is in line with the theory that the left hand is controlled by the right hemisphere and the feet are controlled centrally."
   ]
  },
  {
   "cell_type": "markdown",
   "metadata": {},
   "source": [
    "## Classifying the data\n",
    "\n",
    "We will use a machine learning algorithm to construct a model that can distinguish between the right hand and foot movement of this subject. In order to do this we need to:\n",
    "\n",
    " 1. find a way to quantify the amount of mu activity present in a trial\n",
    " 2. make a model that describes expected values of mu activity for each class\n",
    " 3. finally test this model on some unseen data to see if it can predict the correct class label\n",
    "\n",
    "We will follow a classic BCI design by Blankertz et al. [1] where they use the logarithm of the variance of the signal in a certain frequency band as a feature for the classifier.\n",
    "\n",
    "[1] Blankertz, B., Dornhege, G., Krauledat, M., Müller, K.-R., & Curio, G. (2007). The non-invasive Berlin Brain-Computer Interface: fast acquisition of effective performance in untrained subjects. *NeuroImage*, 37(2), 539–550. doi:10.1016/j.neuroimage.2007.01.051\n",
    "\n",
    "The script below designs a band pass filter using [`scipy.signal.irrfilter`](http://docs.scipy.org/doc/scipy/reference/generated/scipy.signal.iirfilter.html) that will strip away frequencies outside the 8--15Hz window. The filter is applied to all trials:"
   ]
  },
  {
   "cell_type": "code",
   "execution_count": 15,
   "metadata": {},
   "outputs": [],
   "source": [
    "import scipy.signal \n",
    "\n",
    "def bandpass(trials, lo, hi, sample_rate):\n",
    "    '''\n",
    "    Designs and applies a bandpass filter to the signal.\n",
    "    \n",
    "    Parameters\n",
    "    ----------\n",
    "    trials : 3d-array (channels x samples x trials)\n",
    "        The EEGsignal\n",
    "    lo : float\n",
    "        Lower frequency bound (in Hz)\n",
    "    hi : float\n",
    "        Upper frequency bound (in Hz)\n",
    "    sample_rate : float\n",
    "        Sample rate of the signal (in Hz)\n",
    "    \n",
    "    Returns\n",
    "    -------\n",
    "    trials_filt : 3d-array (channels x samples x trials)\n",
    "        The bandpassed signal\n",
    "    '''\n",
    "\n",
    "    # The iirfilter() function takes the filter order: higher numbers mean a sharper frequency cutoff,\n",
    "    # but the resulting signal might be shifted in time, lower numbers mean a soft frequency cutoff,\n",
    "    # but the resulting signal less distorted in time. It also takes the lower and upper frequency bounds\n",
    "    # to pass, divided by the niquist frequency, which is the sample rate divided by 2:\n",
    "    a, b = scipy.signal.iirfilter(6, [lo/(sample_rate/2.0), hi/(sample_rate/2.0)])\n",
    "\n",
    "    # Applying the filter to each trial\n",
    "    ntrials = trials.shape[0]\n",
    "    trials_filt = np.zeros((ntrials, nchannels, nsamples))\n",
    "    for i in range(ntrials):\n",
    "        trials_filt[i,:,:] = scipy.signal.filtfilt(a, b, trials[i,:,:], axis=1)\n",
    "    \n",
    "    return trials_filt"
   ]
  },
  {
   "cell_type": "code",
   "execution_count": 16,
   "metadata": {},
   "outputs": [],
   "source": [
    "# Apply the function\n",
    "trials_filt = {cl1: bandpass(trials[cl1], 8, 15, sample_rate),\n",
    "               cl2: bandpass(trials[cl2], 8, 15, sample_rate)}"
   ]
  },
  {
   "cell_type": "markdown",
   "metadata": {},
   "source": [
    "Plotting the PSD of the resulting `trials_filt` shows the suppression of frequencies outside the passband of the filter:"
   ]
  },
  {
   "cell_type": "code",
   "execution_count": 17,
   "metadata": {},
   "outputs": [
    {
     "data": {
      "image/png": "[encoded data removed]",
      "text/plain": [
       "<Figure size 864x360 with 3 Axes>"
      ]
     },
     "metadata": {
      "needs_background": "light"
     },
     "output_type": "display_data"
    }
   ],
   "source": [
    "psd_r, freqs = psd(trials_filt[cl1])\n",
    "psd_f, freqs = psd(trials_filt[cl2])\n",
    "trials_PSD = {cl1: psd_r, cl2: psd_f}\n",
    "\n",
    "plot_psd(\n",
    "    trials_PSD,\n",
    "    freqs,\n",
    "    [channel_names.index(ch) for ch in ['C3', 'Cz', 'C4']],\n",
    "    chan_lab=['left', 'center', 'right'],\n",
    "    maxy=300\n",
    ")"
   ]
  },
  {
   "cell_type": "markdown",
   "metadata": {},
   "source": [
    "As a feature for the classifier, we will use the logarithm of the variance of each channel. The function below calculates this:"
   ]
  },
  {
   "cell_type": "code",
   "execution_count": 18,
   "metadata": {},
   "outputs": [],
   "source": [
    "# Calculate the log(var) of the trials\n",
    "def logvar(trials):\n",
    "    '''\n",
    "    Calculate the log-var of each channel.\n",
    "    \n",
    "    Parameters\n",
    "    ----------\n",
    "    trials : 3d-array (channels x samples x trials)\n",
    "        The EEG signal.\n",
    "        \n",
    "    Returns\n",
    "    -------\n",
    "    logvar - 2d-array (channels x trials)\n",
    "        For each channel the logvar of the signal\n",
    "    '''\n",
    "    return np.log(np.var(trials, axis=2))"
   ]
  },
  {
   "cell_type": "code",
   "execution_count": 19,
   "metadata": {},
   "outputs": [
    {
     "data": {
      "text/plain": [
       "(100, 59, 200)"
      ]
     },
     "execution_count": 19,
     "metadata": {},
     "output_type": "execute_result"
    }
   ],
   "source": [
    "trials_filt[cl1].shape"
   ]
  },
  {
   "cell_type": "code",
   "execution_count": 20,
   "metadata": {},
   "outputs": [],
   "source": [
    "# Apply the function\n",
    "trials_logvar = {cl1: logvar(trials_filt[cl1]),\n",
    "                 cl2: logvar(trials_filt[cl2])}"
   ]
  },
  {
   "cell_type": "code",
   "execution_count": 21,
   "metadata": {},
   "outputs": [
    {
     "data": {
      "text/plain": [
       "(100, 59)"
      ]
     },
     "execution_count": 21,
     "metadata": {},
     "output_type": "execute_result"
    }
   ],
   "source": [
    "logvar(trials_filt[cl1]).shape"
   ]
  },
  {
   "cell_type": "markdown",
   "metadata": {},
   "source": [
    "Below is a function to visualize the logvar of each channel as a bar chart:"
   ]
  },
  {
   "cell_type": "code",
   "execution_count": 22,
   "metadata": {},
   "outputs": [],
   "source": [
    "def plot_logvar(trials):\n",
    "    '''\n",
    "    Plots the log-var of each channel/component.\n",
    "    arguments:\n",
    "        trials - Dictionary containing the trials (log-vars x trials) for 2 classes.\n",
    "    '''\n",
    "    plt.figure(figsize=(12,5))\n",
    "    \n",
    "    x0 = np.arange(nchannels)\n",
    "    x1 = np.arange(nchannels) + 0.4\n",
    "\n",
    "    y0 = np.mean(trials[cl1], axis=0)\n",
    "    y1 = np.mean(trials[cl2], axis=0)\n",
    "\n",
    "    plt.bar(x0, y0, width=0.5, color='b')\n",
    "    plt.bar(x1, y1, width=0.4, color='r')\n",
    "\n",
    "    plt.xlim(-0.5, nchannels+0.5)\n",
    "\n",
    "    plt.gca().yaxis.grid(True)\n",
    "    plt.title('log-var of each channel/component')\n",
    "    plt.xlabel('channels/components')\n",
    "    plt.ylabel('log-var')\n",
    "    plt.legend(cl_lab)"
   ]
  },
  {
   "cell_type": "code",
   "execution_count": 23,
   "metadata": {},
   "outputs": [
    {
     "data": {
      "image/png": "[encoded data removed]",
      "text/plain": [
       "<Figure size 864x360 with 1 Axes>"
      ]
     },
     "metadata": {
      "needs_background": "light"
     },
     "output_type": "display_data"
    }
   ],
   "source": [
    "# Plot the log-vars\n",
    "plot_logvar(trials_logvar)"
   ]
  },
  {
   "cell_type": "markdown",
   "metadata": {},
   "source": [
    "We see that most channels show a small difference in the log-var of the signal between the two classes. The next step is to go from 118 channels to only a few channel mixtures. The CSP algorithm calculates mixtures of channels that are designed to maximize the difference in variation between two classes. These mixures are called spatial filters."
   ]
  },
  {
   "cell_type": "code",
   "execution_count": 24,
   "metadata": {},
   "outputs": [],
   "source": [
    "from numpy import linalg\n",
    "\n",
    "def cov(trials):\n",
    "    ''' Calculate the covariance for each trial and return their average '''\n",
    "    ntrials = trials.shape[0]\n",
    "    covs = [ trials[i,:,:].dot(trials[i,:,:].T) / nsamples for i in range(ntrials) ]\n",
    "    return np.mean(covs, axis=0)\n",
    "\n",
    "def whitening(sigma):\n",
    "    ''' Calculate a whitening matrix for covariance matrix sigma. '''\n",
    "    U, l, _ = linalg.svd(sigma)\n",
    "    return U.dot( np.diag(l ** -0.5) )\n",
    "\n",
    "def csp(trials_r, trials_f):\n",
    "    '''\n",
    "    Calculate the CSP transformation matrix W.\n",
    "    arguments:\n",
    "        trials_r - Array (channels x samples x trials) containing right hand movement trials\n",
    "        trials_f - Array (channels x samples x trials) containing foot movement trials\n",
    "    returns:\n",
    "        Mixing matrix W\n",
    "    '''\n",
    "    cov_r = cov(trials_r)\n",
    "    cov_f = cov(trials_f)\n",
    "    P = whitening(cov_r + cov_f)\n",
    "    B, _, _ = linalg.svd( P.T.dot(cov_f).dot(P) )\n",
    "    W = P.dot(B)\n",
    "    return W\n",
    "\n",
    "def apply_mix(W, trials):\n",
    "    ''' Apply a mixing matrix to each trial (basically multiply W with the EEG signal matrix)'''\n",
    "    ntrials = trials.shape[0]\n",
    "    trials_csp = np.zeros((ntrials, nchannels, nsamples))\n",
    "    for i in range(ntrials):\n",
    "        trials_csp[i,:,:] = W.T.dot(trials[i,:,:])\n",
    "    return trials_csp"
   ]
  },
  {
   "cell_type": "code",
   "execution_count": 25,
   "metadata": {},
   "outputs": [
    {
     "data": {
      "text/plain": [
       "(59, 59)"
      ]
     },
     "execution_count": 25,
     "metadata": {},
     "output_type": "execute_result"
    }
   ],
   "source": [
    "cov(trials_filt[cl1]).shape"
   ]
  },
  {
   "cell_type": "code",
   "execution_count": 26,
   "metadata": {},
   "outputs": [],
   "source": [
    "# Apply the functions\n",
    "W = csp(trials_filt[cl1], trials_filt[cl2])\n",
    "\n",
    "trials_csp = {cl1: apply_mix(W, trials_filt[cl1]),\n",
    "              cl2: apply_mix(W, trials_filt[cl2])}"
   ]
  },
  {
   "cell_type": "code",
   "execution_count": 27,
   "metadata": {},
   "outputs": [
    {
     "data": {
      "text/plain": [
       "{'left': array([[[ 5.01325400e-04,  1.43495697e-01,  2.17648551e-01, ...,\n",
       "          -7.76245389e-01, -4.63179110e-01,  9.80502170e-03],\n",
       "         [-1.79141368e-02,  1.52269093e-01,  2.01905887e-01, ...,\n",
       "           2.77068255e-01,  1.33643740e-01,  4.35212558e-02],\n",
       "         [ 5.89362136e-02, -6.33002222e-01, -1.08549482e+00, ...,\n",
       "           5.88224258e-01,  4.76295712e-01, -7.13769578e-03],\n",
       "         ...,\n",
       "         [ 1.97943370e-02,  3.48286384e-01,  5.66659278e-01, ...,\n",
       "           5.07390821e-01,  3.95601051e-01,  4.82465663e-02],\n",
       "         [ 2.30662607e-02, -6.05112630e-01, -1.02806236e+00, ...,\n",
       "          -1.06025287e+00, -7.25657055e-01,  7.28993529e-03],\n",
       "         [-3.99920442e-02,  1.67711153e+00,  2.43542265e+00, ...,\n",
       "           2.73815804e-01,  1.18840260e-01, -1.60161086e-02]],\n",
       " \n",
       "        [[-4.05200593e-02, -2.83155622e-01, -3.23604653e-01, ...,\n",
       "          -1.33657080e+00, -9.01816710e-01, -1.15240166e-01],\n",
       "         [ 4.55662319e-02, -6.09587510e-01, -9.41259334e-01, ...,\n",
       "           4.44859215e-01,  3.91749909e-01, -8.03545298e-03],\n",
       "         [-3.50811716e-02, -6.10602732e-01, -8.59350039e-01, ...,\n",
       "           1.02138994e+00,  6.69860106e-01, -2.89868996e-02],\n",
       "         ...,\n",
       "         [-2.22386761e-02, -4.70012366e-01, -6.38047408e-01, ...,\n",
       "          -4.20916048e-01, -2.72190041e-01, -2.05213875e-02],\n",
       "         [ 9.88570294e-03, -1.40571748e-01, -3.72839867e-01, ...,\n",
       "          -1.80760659e-01, -5.85664431e-02, -9.55106177e-02],\n",
       "         [ 1.93572187e-02, -5.46859679e-01, -7.98791202e-01, ...,\n",
       "           1.45478430e+00,  1.12702038e+00, -1.10961756e-02]],\n",
       " \n",
       "        [[-2.55959096e-03, -1.29891109e-01, -2.77621510e-01, ...,\n",
       "           7.08618885e-01,  5.52638351e-01,  1.13449098e-01],\n",
       "         [ 5.90748483e-02,  1.18239832e+00,  1.54359783e+00, ...,\n",
       "          -7.33221415e-01, -5.21933193e-01,  1.30765243e-01],\n",
       "         [ 1.65318663e-02,  1.44265229e+00,  2.04143206e+00, ...,\n",
       "           3.73136984e-01,  3.02823824e-01,  1.03256711e-01],\n",
       "         ...,\n",
       "         [-3.64339675e-03, -3.11740817e-01, -3.68782446e-01, ...,\n",
       "          -7.42185607e-01, -6.18804578e-01, -1.30530576e-01],\n",
       "         [ 2.78516917e-02, -4.91336752e-01, -6.50913790e-01, ...,\n",
       "           5.90554472e-01,  4.44166587e-01,  1.88507261e-01],\n",
       "         [-2.52398040e-03, -1.12144477e-01, -1.10089985e-01, ...,\n",
       "          -7.87638437e-01, -4.67175324e-01,  5.17489650e-02]],\n",
       " \n",
       "        ...,\n",
       " \n",
       "        [[-1.49708885e-03,  4.34174355e-01,  5.56631376e-01, ...,\n",
       "           9.11548237e-01,  5.43205870e-01, -5.57858075e-02],\n",
       "         [ 1.88901959e-02,  3.02759920e-02,  3.68343871e-02, ...,\n",
       "          -1.54610119e+00, -1.08062356e+00, -1.77446178e-01],\n",
       "         [-2.31064633e-02, -8.26456434e-01, -1.25468559e+00, ...,\n",
       "          -7.00634298e-01, -4.83143692e-01, -8.82559020e-03],\n",
       "         ...,\n",
       "         [ 6.10865649e-02, -5.88969043e-01, -8.13169997e-01, ...,\n",
       "           5.13599687e-01,  3.78415828e-01, -2.39415629e-02],\n",
       "         [-4.12362583e-02, -3.10088429e-01, -4.68125065e-01, ...,\n",
       "          -4.98742422e-01, -3.20312516e-01, -8.48605887e-03],\n",
       "         [ 4.41562924e-03, -8.88974599e-01, -1.08609929e+00, ...,\n",
       "          -1.24928355e+00, -8.56810764e-01,  1.39998073e-01]],\n",
       " \n",
       "        [[-1.04115131e-02, -1.83867027e-01, -3.76110186e-01, ...,\n",
       "           5.37238962e-01,  2.94304367e-01, -1.09603225e-01],\n",
       "         [ 4.99966143e-02, -1.07257861e+00, -1.40858845e+00, ...,\n",
       "          -7.02794355e-01, -4.88747866e-01,  1.03697157e-01],\n",
       "         [-1.80134299e-03, -1.04219240e+00, -1.56614557e+00, ...,\n",
       "          -9.00360868e-01, -4.87164552e-01,  1.44067067e-01],\n",
       "         ...,\n",
       "         [ 2.14799313e-02, -8.71805185e-01, -1.34877827e+00, ...,\n",
       "          -9.72940473e-01, -7.58663023e-01, -8.82189506e-02],\n",
       "         [-4.20330550e-02,  1.03931538e-01,  1.65020529e-01, ...,\n",
       "          -7.03706336e-01, -5.70810125e-01, -1.45569497e-01],\n",
       "         [ 1.19881923e-02,  1.47416143e+00,  2.24775327e+00, ...,\n",
       "           6.39772165e-01,  6.22208163e-01,  3.22299240e-01]],\n",
       " \n",
       "        [[ 4.44543400e-02,  7.12656282e-02,  3.23434423e-02, ...,\n",
       "           4.22582245e-01,  3.10894086e-01, -8.62506140e-03],\n",
       "         [ 5.15028941e-03, -4.86095859e-01, -7.49386775e-01, ...,\n",
       "           5.91445752e-02,  9.55367409e-02,  1.01208086e-01],\n",
       "         [ 3.21202682e-02,  2.01809067e-01,  3.23510241e-01, ...,\n",
       "          -1.98786236e+00, -1.51932665e+00, -1.35747205e-01],\n",
       "         ...,\n",
       "         [ 4.27430924e-02,  5.29168551e-01,  7.90638529e-01, ...,\n",
       "          -7.86433019e-01, -4.56672289e-01, -2.58557012e-02],\n",
       "         [ 4.94368080e-02,  3.78556699e-01,  5.06342828e-01, ...,\n",
       "          -9.50787672e-01, -6.81639012e-01, -2.41699463e-03],\n",
       "         [-1.50867879e-02,  1.67685977e-01,  2.53413225e-01, ...,\n",
       "           4.06055108e-01,  2.17939440e-01,  4.97633453e-02]]]),\n",
       " 'right': array([[[ 2.02925498e-02,  2.88038398e-02, -7.25458592e-02, ...,\n",
       "          -2.29544123e-01, -1.66182777e-01, -5.67410288e-02],\n",
       "         [ 1.86985917e-02,  1.64233077e-01,  2.65784244e-01, ...,\n",
       "          -6.30985631e-01, -3.46394772e-01,  1.81350362e-02],\n",
       "         [-3.19736872e-02,  3.98237475e-01,  7.34355148e-01, ...,\n",
       "           1.28854401e+00,  8.71875495e-01, -7.34639857e-03],\n",
       "         ...,\n",
       "         [ 4.48643202e-02,  9.39685170e-02,  4.23214999e-02, ...,\n",
       "           4.48154275e-01,  3.70141610e-01,  5.03740143e-02],\n",
       "         [ 2.37665109e-02,  3.45112708e-01,  4.76565685e-01, ...,\n",
       "          -4.67942074e-01, -2.92357243e-01,  6.21490686e-02],\n",
       "         [ 5.33323310e-03, -4.06832437e-01, -4.93794559e-01, ...,\n",
       "           5.48253954e-01,  4.64491384e-01,  5.88648942e-02]],\n",
       " \n",
       "        [[-4.27670037e-02, -9.52062831e-01, -1.19027946e+00, ...,\n",
       "          -1.68195940e+00, -1.09643277e+00,  1.19647491e-02],\n",
       "         [ 8.81326191e-03, -9.24519764e-01, -1.49339939e+00, ...,\n",
       "           8.42496849e-01,  4.95225156e-01, -3.57030423e-02],\n",
       "         [-1.60173238e-02, -2.19795198e-01, -2.26255272e-01, ...,\n",
       "           7.57826009e-01,  6.11496840e-01, -1.18450826e-02],\n",
       "         ...,\n",
       "         [-4.96759160e-02,  6.79149307e-01,  1.08280926e+00, ...,\n",
       "           1.34567884e+00,  9.59566048e-01,  1.42472310e-01],\n",
       "         [ 5.01070050e-02,  6.36355364e-02,  2.37644835e-01, ...,\n",
       "          -1.00090334e+00, -7.62479294e-01,  4.32070813e-02],\n",
       "         [-3.24691442e-02,  9.78817350e-02,  2.81783044e-01, ...,\n",
       "           2.11807509e-01,  1.29899779e-01, -9.18661038e-02]],\n",
       " \n",
       "        [[-1.91625324e-02, -4.16324080e-01, -3.88306349e-01, ...,\n",
       "          -1.63328337e+00, -9.78409104e-01,  5.60674750e-02],\n",
       "         [-1.08267503e-02,  3.28085477e-02,  6.08196238e-02, ...,\n",
       "           3.26310465e-01,  1.96426216e-01, -8.83167213e-02],\n",
       "         [ 4.37764004e-02,  2.42300270e-01,  1.70562402e-01, ...,\n",
       "          -2.52203622e-01, -1.19735223e-01,  1.87607175e-01],\n",
       "         ...,\n",
       "         [-5.60785248e-03, -6.83989101e-01, -1.08305064e+00, ...,\n",
       "           4.32639109e-01,  2.11991612e-01, -4.17936153e-02],\n",
       "         [-1.23987680e-02, -1.20949003e-01, -1.94611619e-01, ...,\n",
       "          -2.20110923e-01, -2.05696781e-01, -7.34156004e-02],\n",
       "         [ 3.80676686e-04, -9.84344605e-01, -1.44131109e+00, ...,\n",
       "           5.59125120e-01,  3.88618489e-01, -6.98817244e-03]],\n",
       " \n",
       "        ...,\n",
       " \n",
       "        [[ 4.42177940e-02, -1.63343149e-02, -1.76997434e-01, ...,\n",
       "           1.56128829e+00,  9.71809643e-01, -4.79537726e-02],\n",
       "         [-6.54988495e-02, -2.91278468e-01, -4.95727506e-01, ...,\n",
       "          -5.33262361e-02, -7.99382411e-02, -1.82492878e-01],\n",
       "         [-6.50561374e-02, -8.67187647e-01, -1.33793258e+00, ...,\n",
       "           1.30308968e+00,  9.44569713e-01,  5.98744629e-02],\n",
       "         ...,\n",
       "         [ 4.36195678e-02, -2.40172843e-01, -3.47929864e-01, ...,\n",
       "           1.71219091e-01,  3.48195071e-02, -9.08770672e-02],\n",
       "         [-6.66291627e-03,  3.33189985e-01,  5.52062878e-01, ...,\n",
       "          -1.37550538e+00, -9.77267928e-01, -5.03302017e-02],\n",
       "         [ 2.93734782e-02,  1.77604001e-01,  2.83677179e-01, ...,\n",
       "          -2.34874553e-01, -1.55017299e-01,  5.11987254e-02]],\n",
       " \n",
       "        [[-3.04763778e-02, -2.21931557e-01, -1.44638304e-01, ...,\n",
       "          -1.24313320e+00, -8.15558727e-01,  6.96267748e-02],\n",
       "         [ 2.22862364e-02,  5.72914271e-01,  9.38174412e-01, ...,\n",
       "          -4.74491170e-01, -3.23234386e-01,  1.44001267e-01],\n",
       "         [ 3.28272105e-02, -3.24539623e-01, -5.32051010e-01, ...,\n",
       "          -1.07606345e+00, -6.56897143e-01,  1.93505971e-01],\n",
       "         ...,\n",
       "         [ 1.06946107e-02,  2.28251735e-01,  3.31982001e-01, ...,\n",
       "           6.68832627e-02,  9.67714876e-02, -7.62145778e-02],\n",
       "         [-1.44775423e-02, -2.82930918e-01, -3.50713892e-01, ...,\n",
       "           4.31198766e-01,  3.27428177e-01,  4.41393594e-02],\n",
       "         [ 6.65990518e-03, -8.35823769e-02, -1.36886020e-01, ...,\n",
       "           3.86048926e-01,  2.66097147e-01,  9.97449768e-02]],\n",
       " \n",
       "        [[ 5.11795082e-02, -2.42602583e-01, -4.43764972e-01, ...,\n",
       "           1.22688256e+00,  7.43999601e-01, -9.54198248e-02],\n",
       "         [ 6.36928761e-02,  1.10158948e+00,  1.65438249e+00, ...,\n",
       "           4.63004703e-01,  2.97719140e-01, -4.11707601e-02],\n",
       "         [-2.73631444e-02, -4.08000724e-01, -6.18315937e-01, ...,\n",
       "          -1.41674310e-01, -8.13285665e-03, -1.20227773e-02],\n",
       "         ...,\n",
       "         [ 3.73965464e-02, -4.55280695e-01, -7.84116742e-01, ...,\n",
       "           1.72109980e-01,  5.09108310e-02,  2.61145012e-02],\n",
       "         [ 4.15566930e-02, -7.15722232e-01, -1.21689427e+00, ...,\n",
       "           1.10560448e+00,  6.24261546e-01,  1.52491877e-02],\n",
       "         [ 2.15372137e-02,  9.57904215e-01,  1.43685119e+00, ...,\n",
       "          -7.76125752e-01, -4.79965055e-01,  1.28968915e-02]]])}"
      ]
     },
     "execution_count": 27,
     "metadata": {},
     "output_type": "execute_result"
    }
   ],
   "source": [
    "trials_csp"
   ]
  },
  {
   "cell_type": "markdown",
   "metadata": {},
   "source": [
    "To see the result of the CSP algorithm, we plot the log-var like we did before:"
   ]
  },
  {
   "cell_type": "code",
   "execution_count": 28,
   "metadata": {},
   "outputs": [
    {
     "data": {
      "image/png": "[encoded data removed]",
      "text/plain": [
       "<Figure size 864x360 with 1 Axes>"
      ]
     },
     "metadata": {
      "needs_background": "light"
     },
     "output_type": "display_data"
    }
   ],
   "source": [
    "trials_logvar = {cl1: logvar(trials_csp[cl1]),\n",
    "                 cl2: logvar(trials_csp[cl2])}\n",
    "plot_logvar(trials_logvar)"
   ]
  },
  {
   "cell_type": "markdown",
   "metadata": {},
   "source": [
    "Instead of 118 channels, we now have 118 mixtures of channels, called components. They are the result of 118 spatial filters applied to the data.\n",
    "\n",
    "The first filters maximize the variation of the first class, while minimizing the variation of the second. The last filters maximize the variation of the second class, while minimizing the variation of the first.\n",
    "\n",
    "This is also visible in a PSD plot. The code below plots the PSD for the first and last components as well as one in the middle:"
   ]
  },
  {
   "cell_type": "code",
   "execution_count": 29,
   "metadata": {},
   "outputs": [
    {
     "data": {
      "image/png": "[encoded data removed]",
      "text/plain": [
       "<Figure size 864x360 with 3 Axes>"
      ]
     },
     "metadata": {
      "needs_background": "light"
     },
     "output_type": "display_data"
    }
   ],
   "source": [
    "psd_r, freqs = psd(trials_csp[cl1])\n",
    "psd_f, freqs = psd(trials_csp[cl2])\n",
    "trials_PSD = {cl1: psd_r, cl2: psd_f}\n",
    "\n",
    "plot_psd(trials_PSD, freqs, [0,28,-1], chan_lab=['first component', 'middle component', 'last component'], maxy=0.75 )"
   ]
  },
  {
   "cell_type": "markdown",
   "metadata": {},
   "source": [
    "In order to see how well we can differentiate between the two classes, a scatter plot is a useful tool. Here both classes are plotted on a 2-dimensional plane: the x-axis is the first CSP component, the y-axis is the last."
   ]
  },
  {
   "cell_type": "code",
   "execution_count": 30,
   "metadata": {},
   "outputs": [],
   "source": [
    "def plot_scatter(left, foot):\n",
    "    plt.figure()\n",
    "    plt.scatter(left[:,0], left[:,-1], color='b')\n",
    "    plt.scatter(foot[:,0], foot[:,-1], color='r')\n",
    "    plt.xlabel('Last component')\n",
    "    plt.ylabel('First component')\n",
    "    plt.legend(cl_lab)"
   ]
  },
  {
   "cell_type": "code",
   "execution_count": 38,
   "metadata": {},
   "outputs": [
    {
     "data": {
      "text/plain": [
       "(100, 59)"
      ]
     },
     "execution_count": 38,
     "metadata": {},
     "output_type": "execute_result"
    }
   ],
   "source": [
    "trials_logvar[cl1].shape"
   ]
  },
  {
   "cell_type": "code",
   "execution_count": 32,
   "metadata": {},
   "outputs": [
    {
     "data": {
      "image/png": "[encoded data removed]",
      "text/plain": [
       "<Figure size 432x288 with 1 Axes>"
      ]
     },
     "metadata": {
      "needs_background": "light"
     },
     "output_type": "display_data"
    }
   ],
   "source": [
    "plot_scatter(trials_logvar[cl1], trials_logvar[cl2])"
   ]
  },
  {
   "cell_type": "markdown",
   "metadata": {},
   "source": [
    "We will apply a linear classifier to this data. A linear classifier can be thought of as drawing a line in the above plot to separate the two classes. To determine the class for a new trial, we just check on which side of the line the trial would be if plotted as above.\n",
    "\n",
    "The data is split into a train and a test set. The classifier will fit a model (in this case, a straight line) on the training set and use this model to make predictions about the test set (see on which side of the line each trial in the test set falls). Note that the CSP algorithm is part of the model, so for fairness sake it should be calculated using only the training data."
   ]
  },
  {
   "cell_type": "code",
   "execution_count": 65,
   "metadata": {},
   "outputs": [],
   "source": [
    "# Percentage of trials to use for training (50-50 split here)\n",
    "train_percentage = 0.5 \n",
    "\n",
    "# Calculate the number of trials for each class the above percentage boils down to\n",
    "ntrain_r = int(trials_filt[cl1].shape[0] * train_percentage)\n",
    "ntrain_f = int(trials_filt[cl2].shape[0] * train_percentage)\n",
    "ntest_r = trials_filt[cl1].shape[0] - ntrain_r\n",
    "ntest_f = trials_filt[cl2].shape[0] - ntrain_f\n",
    "\n",
    "\n",
    "# Splitting the frequency filtered signal into a train and test set\n",
    "train = {cl1: trials_filt[cl1][:ntrain_r,:,:],\n",
    "         cl2: trials_filt[cl2][:ntrain_f,:,:]}\n",
    "\n",
    "test = {cl1: trials_filt[cl1][ntrain_r:,:,:],\n",
    "        cl2: trials_filt[cl2][ntrain_f:,:,:]}\n",
    "\n",
    "# Train the CSP on the training set only\n",
    "W = csp(train[cl1], train[cl2])\n",
    "\n",
    "# Apply the CSP on both the training and test set\n",
    "train[cl1] = apply_mix(W, train[cl1])\n",
    "train[cl2] = apply_mix(W, train[cl2])\n",
    "test[cl1] = apply_mix(W, test[cl1])\n",
    "test[cl2] = apply_mix(W, test[cl2])"
   ]
  },
  {
   "cell_type": "code",
   "execution_count": 66,
   "metadata": {},
   "outputs": [],
   "source": [
    "# Select only the first and last components for classification\n",
    "comp = np.array([0,-1])\n",
    "train[cl1] = train[cl1][:,comp,:]\n",
    "train[cl2] = train[cl2][:,comp,:]\n",
    "test[cl1] = test[cl1][:,comp,:]\n",
    "test[cl2] = test[cl2][:,comp,:]"
   ]
  },
  {
   "cell_type": "code",
   "execution_count": 67,
   "metadata": {},
   "outputs": [],
   "source": [
    "# Calculate the log-var\n",
    "train[cl1] = logvar(train[cl1])\n",
    "train[cl2] = logvar(train[cl2])\n",
    "test[cl1] = logvar(test[cl1])\n",
    "test[cl2] = logvar(test[cl2])"
   ]
  },
  {
   "cell_type": "code",
   "execution_count": 68,
   "metadata": {},
   "outputs": [
    {
     "data": {
      "text/plain": [
       "(50, 2)"
      ]
     },
     "execution_count": 68,
     "metadata": {},
     "output_type": "execute_result"
    }
   ],
   "source": [
    "train[cl2].shape"
   ]
  },
  {
   "cell_type": "markdown",
   "metadata": {},
   "source": [
    "For a classifier the Linear Discriminant Analysis (LDA) algorithm will be used. It fits a gaussian distribution to each class, characterized by the mean and covariance, and determines an optimal separating plane to divide the two. This plane is defined as $r = W_0 \\cdot X_0 + W_1 \\cdot X_1 + \\ldots + W_n \\cdot X_n - b$, where $r$ is the classifier output, $W$ are called the feature weights, $X$ are the features of the trial, $n$ is the dimensionality of the data and $b$ is called the offset.\n",
    "\n",
    "In our case we have 2 dimensional data, so the separating plane will be a line: $r = W_0 \\cdot X_0 + W_1 \\cdot X_1 - b$. To determine a class label for an unseen trial, we can calculate whether the result is positive or negative."
   ]
  },
  {
   "cell_type": "code",
   "execution_count": 69,
   "metadata": {},
   "outputs": [],
   "source": [
    "def train_lda(class1, class2):\n",
    "    '''\n",
    "    Trains the LDA algorithm.\n",
    "    arguments:\n",
    "        class1 - An array (observations x features) for class 1\n",
    "        class2 - An array (observations x features) for class 2\n",
    "    returns:\n",
    "        The projection matrix W\n",
    "        The offset b\n",
    "    '''\n",
    "    nclasses = 2\n",
    "    \n",
    "    nclass1 = class1.shape[0]\n",
    "    nclass2 = class2.shape[0]\n",
    "    \n",
    "    # Class priors: in this case, we have an equal number of training\n",
    "    # examples for each class, so both priors are 0.5\n",
    "    prior1 = nclass1 / float(nclass1 + nclass2)\n",
    "    prior2 = nclass2 / float(nclass1 + nclass1)\n",
    "   \n",
    "    mean1 = np.mean(class1, axis=0)\n",
    "    mean2 = np.mean(class2, axis=0)\n",
    "    \n",
    "    class1_centered = class1 - mean1\n",
    "    class2_centered = class2 - mean2\n",
    "    \n",
    "    # Calculate the covariance between the features\n",
    "    cov1 = class1_centered.T.dot(class1_centered) / (nclass1 - nclasses)\n",
    "    cov2 = class2_centered.T.dot(class2_centered) / (nclass2 - nclasses)\n",
    "   \n",
    "    W = (mean2 - mean1).dot(np.linalg.pinv(prior1*cov1 + prior2*cov2))\n",
    "    b = (prior1*mean1 + prior2*mean2).dot(W)\n",
    "    \n",
    "    return (W,b)\n",
    "\n",
    "def apply_lda(test, W, b):\n",
    "    '''\n",
    "    Applies a previously trained LDA to new data.\n",
    "    arguments:\n",
    "        test - An array (features x trials) containing the data\n",
    "        W    - The project matrix W as calculated by train_lda()\n",
    "        b    - The offsets b as calculated by train_lda()\n",
    "    returns:\n",
    "        A list containing a classlabel for each trial\n",
    "    '''\n",
    "    ntrials = test.shape[1]\n",
    "    \n",
    "    prediction = []\n",
    "    for i in range(ntrials):\n",
    "        # The line below is a generalization for:\n",
    "        # result = W[0] * test[0,i] + W[1] * test[1,i] - b\n",
    "        result = W.dot(test[:,i]) - b\n",
    "        if result <= 0:\n",
    "            prediction.append(1)\n",
    "        else:\n",
    "            prediction.append(2)\n",
    "    \n",
    "    return np.array(prediction)"
   ]
  },
  {
   "cell_type": "code",
   "execution_count": 72,
   "metadata": {},
   "outputs": [
    {
     "data": {
      "text/plain": [
       "(2, 50)"
      ]
     },
     "execution_count": 72,
     "metadata": {},
     "output_type": "execute_result"
    }
   ],
   "source": [
    "train[cl1].T.shape"
   ]
  },
  {
   "cell_type": "markdown",
   "metadata": {},
   "source": [
    "Training the LDA using the training data gives us $W$ and $b$:"
   ]
  },
  {
   "cell_type": "code",
   "execution_count": 73,
   "metadata": {},
   "outputs": [
    {
     "name": "stdout",
     "output_type": "stream",
     "text": [
      "W: [ 5.31347949 -5.52963938]\n",
      "b: 0.3802472103806327\n"
     ]
    }
   ],
   "source": [
    "W,b = train_lda(train[cl1], train[cl2])\n",
    "\n",
    "print('W:', W)\n",
    "print('b:', b)"
   ]
  },
  {
   "cell_type": "markdown",
   "metadata": {},
   "source": [
    "It can be informative to recreate the scatter plot and overlay the decision boundary as determined by the LDA classifier. The decision boundary is the line for which the classifier output is exactly 0. The scatterplot used $X_0$ as $x$-axis and $X_1$ as $y$-axis. To find the function $y = f(x)$ describing the decision boundary, we set $r$ to 0 and solve for $y$ in the equation of the separating plane:"
   ]
  },
  {
   "cell_type": "markdown",
   "metadata": {},
   "source": [
    "<div style=\"width:600px\">\n",
    "$$\\begin{align}\n",
    "W_0 \\cdot X_0 + W_1 \\cdot X_1 - b &= r &&\\text{the original equation} \\\\\\\n",
    "W_0 \\cdot x + W_1 \\cdot y - b &= 0     &&\\text{filling in $X_0=x$, $X_1=y$ and $r=0$} \\\\\\\n",
    "W_0 \\cdot x + W_1 \\cdot y &= b         &&\\text{solving for $y$}\\\\\\\n",
    "W_1 \\cdot y &= b - W_0 \\cdot x \\\\\\\n",
    "\\\\\\\n",
    "y &= \\frac{b - W_0 \\cdot x}{W_1}\n",
    "\\end{align}$$\n",
    "</div>"
   ]
  },
  {
   "cell_type": "markdown",
   "metadata": {},
   "source": [
    "We first plot the decision boundary with the training data used to calculate it:"
   ]
  },
  {
   "cell_type": "code",
   "execution_count": 74,
   "metadata": {},
   "outputs": [
    {
     "data": {
      "text/plain": [
       "(-2.2, 1.0)"
      ]
     },
     "execution_count": 74,
     "metadata": {},
     "output_type": "execute_result"
    },
    {
     "data": {
      "image/png": "[encoded data removed]",
      "text/plain": [
       "<Figure size 432x288 with 1 Axes>"
      ]
     },
     "metadata": {
      "needs_background": "light"
     },
     "output_type": "display_data"
    }
   ],
   "source": [
    "# Scatterplot like before\n",
    "plot_scatter(train[cl1], train[cl2])\n",
    "title('Training data')\n",
    "\n",
    "# Calculate decision boundary (x,y)\n",
    "x = np.arange(-5, 1, 0.1)\n",
    "y = (b - W[0]*x) / W[1]\n",
    "\n",
    "# Plot the decision boundary\n",
    "plt.plot(x,y, linestyle='--', linewidth=2, color='k')\n",
    "plt.xlim(-5, 1)\n",
    "plt.ylim(-2.2, 1)"
   ]
  },
  {
   "cell_type": "markdown",
   "metadata": {},
   "source": [
    "The code below plots the boundary with the test data on which we will apply the classifier. You will see the classifier is going to make some mistakes."
   ]
  },
  {
   "cell_type": "code",
   "execution_count": 75,
   "metadata": {},
   "outputs": [
    {
     "data": {
      "text/plain": [
       "(-2.2, 1.0)"
      ]
     },
     "execution_count": 75,
     "metadata": {},
     "output_type": "execute_result"
    },
    {
     "data": {
      "image/png": "[encoded data removed]",
      "text/plain": [
       "<Figure size 432x288 with 1 Axes>"
      ]
     },
     "metadata": {
      "needs_background": "light"
     },
     "output_type": "display_data"
    }
   ],
   "source": [
    "plot_scatter(test[cl1], test[cl2])\n",
    "title('Test data')\n",
    "plt.plot(x,y, linestyle='--', linewidth=2, color='k')\n",
    "plt.xlim(-5, 1)\n",
    "plt.ylim(-2.2, 1)"
   ]
  },
  {
   "cell_type": "markdown",
   "metadata": {},
   "source": [
    "Now the LDA is constructed and fitted to the training data. We can now apply it to the test data. The results are presented as a confusion matrix:\n",
    "    \n",
    "<table>\n",
    "    <tr><td></td><td colspan='2' style=\"font-weight:bold\">True labels →</td></tr>\n",
    "    <tr><td style=\"font-weight:bold\">↓ Predicted labels</td><td>Right</td><td>Foot</td></tr>\n",
    "    <tr><td>Right</td><td></td><td></td></tr>\n",
    "    <tr><td>Foot</td><td></td><td></td></tr>\n",
    "</table>\n",
    "\n",
    "The number at the diagonal will be trials that were correctly classified, any trials incorrectly classified (either a false positive or false negative) will be in the corners."
   ]
  },
  {
   "cell_type": "code",
   "execution_count": 77,
   "metadata": {},
   "outputs": [
    {
     "name": "stdout",
     "output_type": "stream",
     "text": [
      "Confusion matrix:\n",
      "[[45  4]\n",
      " [ 5 46]]\n",
      "\n",
      "Accuracy: 0.910\n"
     ]
    }
   ],
   "source": [
    "# Print confusion matrix\n",
    "conf = np.array([\n",
    "    [(apply_lda(test[cl1].T, W, b) == 1).sum(), (apply_lda(test[cl2].T, W, b) == 1).sum()],\n",
    "    [(apply_lda(test[cl1].T, W, b) == 2).sum(), (apply_lda(test[cl2].T, W, b) == 2).sum()],\n",
    "])\n",
    "\n",
    "print('Confusion matrix:')\n",
    "print(conf)\n",
    "print()\n",
    "print('Accuracy: %.3f' % (np.sum(np.diag(conf)) / float(np.sum(conf))))"
   ]
  },
  {
   "cell_type": "markdown",
   "metadata": {},
   "source": [
    "The confusion matrix shows that 4 out of the 50 trials with foot movement were incorrectly classified as right hand movement and 5 out of the 50 trials with right hand movement were incorrectly classified as foot movement. In total, 91% of the trials were correctly classified, not a bad score!\n",
    "\n",
    "If you want, you can continue with the next tutorial:\n",
    "[4. Classifiying the P300](4.%20Classifying%20the%20P300.ipynb)"
   ]
  }
 ],
 "metadata": {
  "kernelspec": {
   "display_name": "Python 3",
   "language": "python",
   "name": "python3"
  },
  "language_info": {
   "codemirror_mode": {
    "name": "ipython",
    "version": 3
   },
   "file_extension": ".py",
   "mimetype": "text/x-python",
   "name": "python",
   "nbconvert_exporter": "python",
   "pygments_lexer": "ipython3",
   "version": "3.8.5"
  }
 },
 "nbformat": 4,
 "nbformat_minor": 1
}
