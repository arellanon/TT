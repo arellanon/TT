{
 "cells": [
  {
   "cell_type": "code",
   "execution_count": 1,
   "metadata": {},
   "outputs": [
    {
     "name": "stderr",
     "output_type": "stream",
     "text": [
      "In /home/nahuel/anaconda3/lib/python3.8/site-packages/matplotlib/mpl-data/stylelib/_classic_test.mplstyle: \n",
      "The text.latex.preview rcparam was deprecated in Matplotlib 3.3 and will be removed two minor releases later.\n",
      "In /home/nahuel/anaconda3/lib/python3.8/site-packages/matplotlib/mpl-data/stylelib/_classic_test.mplstyle: \n",
      "The mathtext.fallback_to_cm rcparam was deprecated in Matplotlib 3.3 and will be removed two minor releases later.\n",
      "In /home/nahuel/anaconda3/lib/python3.8/site-packages/matplotlib/mpl-data/stylelib/_classic_test.mplstyle: Support for setting the 'mathtext.fallback_to_cm' rcParam is deprecated since 3.3 and will be removed two minor releases later; use 'mathtext.fallback : 'cm' instead.\n",
      "In /home/nahuel/anaconda3/lib/python3.8/site-packages/matplotlib/mpl-data/stylelib/_classic_test.mplstyle: \n",
      "The validate_bool_maybe_none function was deprecated in Matplotlib 3.3 and will be removed two minor releases later.\n",
      "In /home/nahuel/anaconda3/lib/python3.8/site-packages/matplotlib/mpl-data/stylelib/_classic_test.mplstyle: \n",
      "The savefig.jpeg_quality rcparam was deprecated in Matplotlib 3.3 and will be removed two minor releases later.\n",
      "In /home/nahuel/anaconda3/lib/python3.8/site-packages/matplotlib/mpl-data/stylelib/_classic_test.mplstyle: \n",
      "The keymap.all_axes rcparam was deprecated in Matplotlib 3.3 and will be removed two minor releases later.\n",
      "In /home/nahuel/anaconda3/lib/python3.8/site-packages/matplotlib/mpl-data/stylelib/_classic_test.mplstyle: \n",
      "The animation.avconv_path rcparam was deprecated in Matplotlib 3.3 and will be removed two minor releases later.\n",
      "In /home/nahuel/anaconda3/lib/python3.8/site-packages/matplotlib/mpl-data/stylelib/_classic_test.mplstyle: \n",
      "The animation.avconv_args rcparam was deprecated in Matplotlib 3.3 and will be removed two minor releases later.\n"
     ]
    }
   ],
   "source": [
    "%matplotlib inline"
   ]
  },
  {
   "cell_type": "code",
   "execution_count": 2,
   "metadata": {},
   "outputs": [],
   "source": [
    "#librerias\n",
    "import numpy as np\n",
    "import time\n",
    "from datetime import datetime\n",
    "#from loaddata import *\n",
    "\n",
    "#sklearn\n",
    "from sklearn.model_selection import ShuffleSplit, cross_val_score, cross_val_predict\n",
    "from sklearn.discriminant_analysis import LinearDiscriminantAnalysis\n",
    "from sklearn.pipeline import Pipeline\n",
    "from sklearn.model_selection import train_test_split\n",
    "from sklearn import metrics as met\n",
    "import joblib\n",
    "\n",
    "import matplotlib\n",
    "#new\n",
    "from matplotlib.colors import TwoSlopeNorm\n",
    "from mne.time_frequency import tfr_multitaper\n",
    "import matplotlib.pyplot as plt\n",
    "from mne.stats import permutation_cluster_1samp_test as pcluster_test\n",
    "import pandas as pd\n",
    "import seaborn as sns\n",
    "\n",
    "#mne\n",
    "import mne\n",
    "from mne.decoding import CSP\n",
    "from mne.channels import read_layout\n",
    "from mne.channels import make_standard_montage\n",
    "from mne.preprocessing import (create_eog_epochs, create_ecg_epochs,\n",
    "                               compute_proj_ecg, compute_proj_eog)\n",
    "from mne.io import concatenate_raws, read_raw_edf\n",
    "from mne.datasets import eegbci\n",
    "from mne import Epochs, pick_types, events_from_annotations\n",
    "\n",
    "from mne.minimum_norm import read_inverse_operator, compute_source_psd_epochs\n",
    "\n",
    "#matplotlib.use('Qt5Agg')"
   ]
  },
  {
   "cell_type": "code",
   "execution_count": 3,
   "metadata": {},
   "outputs": [
    {
     "name": "stdout",
     "output_type": "stream",
     "text": [
      "Extracting EDF parameters from /home/nahuel/mne_data/MNE-eegbci-data/files/eegmmidb/1.0.0/S001/S001R03.edf...\n",
      "EDF file detected\n",
      "Setting channel info structure...\n",
      "Creating raw.info structure...\n",
      "Reading 0 ... 19999  =      0.000 ...   124.994 secs...\n",
      "Extracting EDF parameters from /home/nahuel/mne_data/MNE-eegbci-data/files/eegmmidb/1.0.0/S001/S001R07.edf...\n",
      "EDF file detected\n",
      "Setting channel info structure...\n",
      "Creating raw.info structure...\n",
      "Reading 0 ... 19999  =      0.000 ...   124.994 secs...\n",
      "Extracting EDF parameters from /home/nahuel/mne_data/MNE-eegbci-data/files/eegmmidb/1.0.0/S001/S001R11.edf...\n",
      "EDF file detected\n",
      "Setting channel info structure...\n",
      "Creating raw.info structure...\n",
      "Reading 0 ... 19999  =      0.000 ...   124.994 secs...\n",
      "Used Annotations descriptions: ['T1', 'T2']\n"
     ]
    }
   ],
   "source": [
    "runs = [3, 7, 11]  #Motor execution: left vs right hand\n",
    "\n",
    "raw_fnames=[]\n",
    "for subject in range(1, 2):\n",
    "    raw_fnames.extend( eegbci.load_data(subject,runs= runs) )\n",
    "\n",
    "#fnames = eegbci.load_data(subject=1, runs=runs)\n",
    "raw = concatenate_raws([read_raw_edf(f, preload=True) for f in raw_fnames])\n",
    "#raw = concatenate_raws([read_raw_edf(f, preload=True) for f in fnames])\n",
    "\n",
    "raw.rename_channels(lambda x: x.strip('.'))  # remove dots from channel names\n",
    "\n",
    "events, _ = mne.events_from_annotations(raw, event_id=dict(T1=2, T2=3))"
   ]
  },
  {
   "cell_type": "code",
   "execution_count": 4,
   "metadata": {},
   "outputs": [],
   "source": [
    "#Filtrar channles\n",
    "raw.pick_channels(ch_names=['C3','Cz','C4','P3','Pz','P4','O1','O2'])\n",
    "channel_names = raw.info['ch_names']\n",
    "#ch_index =[channel_names.index(ch) for ch in ['C3', 'Cz', 'C4']]\n",
    "ch_index =[0, 1, 7]\n",
    "#raw.pick_channels(ch_names=['C3','Cz','C4'])\n",
    "\n",
    "#channel_names = ['C3','Cz','C4','P3','Pz','P4','O1','O2']\n",
    "#Filtrar frequencia\n",
    "#raw.filter(8., 12., fir_design='firwin', skip_by_annotation='edge')"
   ]
  },
  {
   "cell_type": "code",
   "execution_count": 5,
   "metadata": {},
   "outputs": [
    {
     "name": "stdout",
     "output_type": "stream",
     "text": [
      "Not setting metadata\n",
      "45 matching events found\n",
      "No baseline correction applied\n",
      "0 projection items activated\n",
      "Using data from preloaded Raw for 45 events and 321 original time points ...\n",
      "0 bad epochs dropped\n"
     ]
    },
    {
     "data": {
      "text/html": [
       "<table class=\"table table-hover table-striped table-sm table-responsive small\">\n",
       "    <tr>\n",
       "        <th>Number of events</th>\n",
       "        <td>45</td>\n",
       "    </tr>\n",
       "    <tr>\n",
       "        <th>Events</th>\n",
       "        \n",
       "        <td>left: 23<br/>right: 22</td>\n",
       "        \n",
       "    </tr>\n",
       "    <tr>\n",
       "        <th>Time range</th>\n",
       "        <td>0.500 – 2.500 sec</td>\n",
       "    </tr>\n",
       "    <tr>\n",
       "        <th>Baseline</th>\n",
       "        <td>off</td>\n",
       "    </tr>\n",
       "</table>"
      ],
      "text/plain": [
       "<Epochs |  45 events (all good), 0.5 - 2.5 sec, baseline off, ~916 kB, data loaded,\n",
       " 'left': 23\n",
       " 'right': 22>"
      ]
     },
     "execution_count": 5,
     "metadata": {},
     "output_type": "execute_result"
    }
   ],
   "source": [
    "picks = pick_types(raw.info, meg=False, eeg=True, stim=False, eog=False, exclude='bads')\n",
    "\n",
    "tmin, tmax = 0.5, 2.5\n",
    "event_ids = dict(left=2, right=3)  # map event IDs to tasks\n",
    "\n",
    "#epochs = mne.Epochs(raw, events, event_ids, tmin - 0.5, tmax + 0.5, baseline=None, preload=True)\n",
    "\n",
    "epochs = Epochs(raw, events, event_ids, tmin, tmax, proj=True,\n",
    "                baseline=None, preload=True)\n",
    "epochs"
   ]
  },
  {
   "cell_type": "code",
   "execution_count": 6,
   "metadata": {},
   "outputs": [],
   "source": [
    "trials = {}\n",
    "epochs0=epochs[epochs.events[:,2]==3]\n",
    "epochs1=epochs[epochs.events[:,2]==2]\n",
    "\n",
    "e0=epochs0.get_data(units='uV')\n",
    "e1=epochs1.get_data(units='uV')"
   ]
  },
  {
   "cell_type": "code",
   "execution_count": 7,
   "metadata": {},
   "outputs": [
    {
     "data": {
      "text/plain": [
       "array([[-28., -26.,  -8., ...,  97.,  72.,  41.],\n",
       "       [-38., -47., -30., ..., 119., 111.,  84.],\n",
       "       [ -6., -13.,   9., ...,  49.,  44.,  19.],\n",
       "       ...,\n",
       "       [  2.,   5.,  12., ...,  63.,  36.,  36.],\n",
       "       [  8.,   1., -14., ..., 107.,  93.,  67.],\n",
       "       [-54., -29., -24., ...,  34.,  14.,  -8.]])"
      ]
     },
     "execution_count": 7,
     "metadata": {},
     "output_type": "execute_result"
    }
   ],
   "source": [
    "e0[0]"
   ]
  },
  {
   "cell_type": "code",
   "execution_count": 8,
   "metadata": {},
   "outputs": [],
   "source": [
    "nchannels = len(channel_names)\n",
    "nsamples = len(e1[0,0])\n",
    "sample_rate = raw.info['sfreq']\n",
    "\n",
    "cl1='right'\n",
    "cl2='left'"
   ]
  },
  {
   "cell_type": "code",
   "execution_count": 9,
   "metadata": {},
   "outputs": [],
   "source": [
    "trials[cl1] = e0\n",
    "trials[cl2] = e1"
   ]
  },
  {
   "cell_type": "code",
   "execution_count": 10,
   "metadata": {},
   "outputs": [],
   "source": [
    "from matplotlib import mlab\n",
    "\n",
    "def psd(trials):\n",
    "    '''\n",
    "    Calculates for each trial the Power Spectral Density (PSD).\n",
    "    \n",
    "    Parameters\n",
    "    ----------\n",
    "    trials : 3d-array (trials x channels x samples)\n",
    "        The EEG signal\n",
    "    \n",
    "    Returns\n",
    "    -------\n",
    "    trial_PSD : 3d-array (trials x channels x PSD)\n",
    "        the PSD for each trial.  \n",
    "    freqs : list of floats\n",
    "        The frequencies for which the PSD was computed (useful for plotting later)\n",
    "    '''\n",
    "    \n",
    "    ntrials = trials.shape[0]\n",
    "    trials_PSD = np.zeros((ntrials, nchannels, 161))\n",
    "\n",
    "    # Iterate over trials and channels\n",
    "    for trial in range(ntrials):\n",
    "        for ch in range(nchannels):\n",
    "            # Calculate the PSD\n",
    "            (PSD, freqs) = mlab.psd(trials[trial,ch,:], NFFT=int(nsamples), Fs=sample_rate)\n",
    "            trials_PSD[trial, ch, :] = PSD.ravel()\n",
    "                \n",
    "    return trials_PSD, freqs"
   ]
  },
  {
   "cell_type": "code",
   "execution_count": 11,
   "metadata": {},
   "outputs": [],
   "source": [
    "psd_l, freqs = psd(trials[cl1])\n",
    "psd_r, freqs = psd(trials[cl2])\n",
    "trials_PSD = {cl1: psd_l, cl2: psd_r}"
   ]
  },
  {
   "cell_type": "code",
   "execution_count": 12,
   "metadata": {},
   "outputs": [],
   "source": [
    "import matplotlib.pyplot as plt\n",
    "\n",
    "def plot_psd(trials_PSD, freqs, chan_ind, chan_lab=None, maxy=None):\n",
    "    '''\n",
    "    Plots PSD data calculated with psd().\n",
    "    \n",
    "    Parameters\n",
    "    ----------\n",
    "    trials : 3d-array\n",
    "        The PSD data, as returned by psd()\n",
    "    freqs : list of floats\n",
    "        The frequencies for which the PSD is defined, as returned by psd() \n",
    "    chan_ind : list of integers\n",
    "        The indices of the channels to plot\n",
    "    chan_lab : list of strings\n",
    "        (optional) List of names for each channel\n",
    "    maxy : float\n",
    "        (optional) Limit the y-axis to this value\n",
    "    '''\n",
    "    plt.figure(figsize=(12,5))\n",
    "    \n",
    "    nchans = len(chan_ind)\n",
    "    \n",
    "    # Maximum of 3 plots per row\n",
    "    nrows = int(np.ceil(nchans / 3))\n",
    "    ncols = min(3, nchans)\n",
    "    \n",
    "    # Enumerate over the channels\n",
    "    for i,ch in enumerate(chan_ind):\n",
    "        # Figure out which subplot to draw to\n",
    "        plt.subplot(nrows,ncols,i+1)\n",
    "    \n",
    "        # Plot the PSD for each class\n",
    "        for cl in trials.keys():\n",
    "            plt.plot(freqs, np.mean(trials_PSD[cl][:,ch,:], axis=0), label=cl)\n",
    "    \n",
    "        # All plot decoration below...\n",
    "        \n",
    "        plt.xlim(1,30)\n",
    "        \n",
    "        if maxy != None:\n",
    "            plt.ylim(0,maxy)\n",
    "    \n",
    "        plt.grid()\n",
    "    \n",
    "        plt.xlabel('Frequency (Hz)')\n",
    "        \n",
    "        if chan_lab == None:\n",
    "            plt.title('Channel %d' % (ch+1))\n",
    "        else:\n",
    "            plt.title(chan_lab[i])\n",
    "\n",
    "        plt.legend()\n",
    "        \n",
    "    plt.tight_layout()"
   ]
  },
  {
   "cell_type": "code",
   "execution_count": 40,
   "metadata": {},
   "outputs": [
    {
     "data": {
      "image/png": "[encoded data removed]",
      "text/plain": [
       "<Figure size 864x360 with 3 Axes>"
      ]
     },
     "metadata": {
      "needs_background": "light"
     },
     "output_type": "display_data"
    }
   ],
   "source": [
    "plot_psd(\n",
    "    trials_PSD,\n",
    "    freqs,\n",
    "    ch_index,\n",
    "     #[0, 1, 2],\n",
    "    chan_lab=['left', 'center', 'right']\n",
    ")"
   ]
  },
  {
   "cell_type": "code",
   "execution_count": 14,
   "metadata": {},
   "outputs": [],
   "source": [
    "import scipy.signal \n",
    "\n",
    "def bandpass(trials, lo, hi, sample_rate):\n",
    "    '''\n",
    "    Designs and applies a bandpass filter to the signal.\n",
    "    \n",
    "    Parameters\n",
    "    ----------\n",
    "    trials : 3d-array (channels x samples x trials)\n",
    "        The EEGsignal\n",
    "    lo : float\n",
    "        Lower frequency bound (in Hz)\n",
    "    hi : float\n",
    "        Upper frequency bound (in Hz)\n",
    "    sample_rate : float\n",
    "        Sample rate of the signal (in Hz)\n",
    "    \n",
    "    Returns\n",
    "    -------\n",
    "    trials_filt : 3d-array (channels x samples x trials)\n",
    "        The bandpassed signal\n",
    "    '''\n",
    "\n",
    "    # The iirfilter() function takes the filter order: higher numbers mean a sharper frequency cutoff,\n",
    "    # but the resulting signal might be shifted in time, lower numbers mean a soft frequency cutoff,\n",
    "    # but the resulting signal less distorted in time. It also takes the lower and upper frequency bounds\n",
    "    # to pass, divided by the niquist frequency, which is the sample rate divided by 2:\n",
    "    a, b = scipy.signal.iirfilter(6, [lo/(sample_rate/2.0), hi/(sample_rate/2.0)])\n",
    "    # Applying the filter to each trial\n",
    "    ntrials = trials.shape[0]\n",
    "    trials_filt = np.zeros((ntrials, nchannels, nsamples))\n",
    "    for i in range(ntrials):\n",
    "        trials_filt[i,:,:] = scipy.signal.filtfilt(a, b, trials[i,:,:], axis=1)\n",
    "    \n",
    "    return trials_filt"
   ]
  },
  {
   "cell_type": "code",
   "execution_count": 15,
   "metadata": {},
   "outputs": [],
   "source": [
    "# Apply the function\n",
    "trials_filt = {cl1: bandpass(trials[cl1], 8, 15, sample_rate),\n",
    "               cl2: bandpass(trials[cl2], 8, 15, sample_rate)}"
   ]
  },
  {
   "cell_type": "code",
   "execution_count": 35,
   "metadata": {},
   "outputs": [
    {
     "data": {
      "text/plain": [
       "{'right': array([[[ 1.18900781e+00,  9.54645016e+00,  1.57385247e+01, ...,\n",
       "           9.50342077e+00,  5.76216580e+00,  8.78683327e-01],\n",
       "         [ 3.62110475e-01,  6.70024507e+00,  1.16187745e+01, ...,\n",
       "           1.10551205e+01,  7.44337309e+00,  2.16213167e+00],\n",
       "         [ 6.32869234e-01,  4.03830272e+00,  6.62959470e+00, ...,\n",
       "           1.21471421e+01,  8.22851121e+00,  2.70331970e+00],\n",
       "         ...,\n",
       "         [ 1.93354077e-01, -1.33831124e+00, -2.74476969e+00, ...,\n",
       "           1.60571161e+01,  1.11688123e+01,  4.13467291e+00],\n",
       "         [ 8.87425644e-01, -6.40096018e+00, -1.24993898e+01, ...,\n",
       "           1.88146549e+00,  1.21101290e+00,  2.79380209e-01],\n",
       "         [ 2.80058211e-01, -6.23154388e+00, -1.15597445e+01, ...,\n",
       "           1.44429728e+01,  1.09349937e+01,  5.19620984e+00]],\n",
       " \n",
       "        [[-4.31326722e-02, -3.01732768e+00, -5.91085250e+00, ...,\n",
       "          -4.91396339e+00, -4.65009801e+00, -3.58578741e+00],\n",
       "         [-1.75644578e-01, -8.41211961e+00, -1.53525896e+01, ...,\n",
       "          -3.69964943e+00, -3.70656752e+00, -3.16687097e+00],\n",
       "         [ 4.52127798e-01, -8.04416178e+00, -1.49181045e+01, ...,\n",
       "          -1.38023454e+00, -1.71770896e+00, -1.81234796e+00],\n",
       "         ...,\n",
       "         [-6.60407170e-02, -1.22222155e+01, -2.16778180e+01, ...,\n",
       "           1.15284769e+01,  5.40167216e+00, -1.77339140e+00],\n",
       "         [-5.41481037e-02, -1.69922398e+01, -3.08469448e+01, ...,\n",
       "           1.15118851e+01,  6.09200197e+00, -7.15498142e-01],\n",
       "         [ 3.27194190e-01, -1.18537218e+01, -2.16398538e+01, ...,\n",
       "           1.42703113e+01,  6.34991152e+00, -2.73942233e+00]],\n",
       " \n",
       "        [[-4.22642284e-01,  1.73388888e-01,  5.90573485e-01, ...,\n",
       "          -6.85869269e+00, -5.21899817e+00, -2.47848735e+00],\n",
       "         [-7.12277246e-02,  3.35340335e+00,  5.96819173e+00, ...,\n",
       "          -1.41230353e+01, -9.81431044e+00, -3.44213962e+00],\n",
       "         [ 3.79419443e-01,  4.79535941e+00,  7.91806392e+00, ...,\n",
       "          -5.54404726e+00, -4.55589569e+00, -2.33315580e+00],\n",
       "         ...,\n",
       "         [ 3.42609852e-01,  5.28315384e+00,  8.73983439e+00, ...,\n",
       "          -1.04186444e+01, -6.22363368e+00, -7.58181128e-01],\n",
       "         [-1.07007977e-01, -3.79175891e+00, -6.68289960e+00, ...,\n",
       "          -1.16458926e+01, -7.21933936e+00, -1.29776446e+00],\n",
       "         [ 1.25700449e+00,  1.24766962e+00,  7.70632929e-01, ...,\n",
       "           6.43596116e+00,  4.55671522e+00,  1.93630194e+00]],\n",
       " \n",
       "        ...,\n",
       " \n",
       "        [[ 3.11482803e+00, -5.06472528e+00, -1.19781858e+01, ...,\n",
       "           3.79329022e+01,  2.37129681e+01,  6.48854627e+00],\n",
       "         [ 3.03809745e+00, -7.12078103e+00, -1.52708871e+01, ...,\n",
       "           3.01169429e+01,  1.81730047e+01,  4.39989632e+00],\n",
       "         [ 2.23288791e+00, -2.57410555e+00, -6.42511283e+00, ...,\n",
       "           3.21682119e+01,  2.02415181e+01,  5.78752693e+00],\n",
       "         ...,\n",
       "         [ 2.76113371e+00,  3.56370227e+00,  3.96526760e+00, ...,\n",
       "           2.91722261e+01,  1.82766652e+01,  5.00561145e+00],\n",
       "         [ 4.23751458e+00, -9.16963932e+00, -2.06137472e+01, ...,\n",
       "           4.10984413e+01,  2.61186715e+01,  7.20197326e+00],\n",
       "         [ 3.95304468e+00, -8.67286860e+00, -1.92077410e+01, ...,\n",
       "           3.76144190e+01,  2.42641893e+01,  7.03936630e+00]],\n",
       " \n",
       "        [[ 6.81052787e-01,  1.59668233e+00,  2.20017154e+00, ...,\n",
       "          -7.31744292e+00, -4.40366331e+00, -1.01250692e+00],\n",
       "         [-5.01515523e-02, -2.79622945e+00, -5.36935846e+00, ...,\n",
       "          -2.88814995e+00, -1.43032872e+00,  3.63779292e-02],\n",
       "         [ 1.18437528e-01, -2.93721513e+00, -5.71608725e+00, ...,\n",
       "          -4.00182348e-01, -7.47605893e-01, -1.12009942e+00],\n",
       "         ...,\n",
       "         [ 6.99333301e-01, -2.30284967e+00, -5.19534050e+00, ...,\n",
       "           4.11766848e+00,  2.01367730e+00, -4.26116087e-01],\n",
       "         [ 5.61590177e-01,  7.20607253e-01,  7.23322508e-01, ...,\n",
       "          -1.33487617e+01, -1.02139686e+01, -5.16039310e+00],\n",
       "         [ 4.41467569e-01,  5.33375644e-01,  3.18284181e-01, ...,\n",
       "          -1.20995963e+00, -1.94293663e+00, -2.05528455e+00]],\n",
       " \n",
       "        [[ 2.12768851e+00,  2.29467980e+00,  1.36390821e+00, ...,\n",
       "          -6.72788364e+00, -6.30517955e+00, -4.33272474e+00],\n",
       "         [ 7.42896852e-01, -4.41301733e+00, -9.15813450e+00, ...,\n",
       "          -7.54709593e+00, -5.69863622e+00, -2.67434004e+00],\n",
       "         [ 2.12585097e-01, -2.88691062e+00, -6.15178306e+00, ...,\n",
       "          -1.61168306e+01, -1.15707568e+01, -5.05013837e+00],\n",
       "         ...,\n",
       "         [-5.68854674e-01, -4.55195725e+00, -8.33664973e+00, ...,\n",
       "          -1.45236506e+01, -1.03300067e+01, -4.17229592e+00],\n",
       "         [-1.22940524e+00,  1.07423876e+00,  1.61085119e+00, ...,\n",
       "           2.55771454e+00, -1.45034916e+00, -4.50816300e+00],\n",
       "         [-2.01750095e+00, -3.82977846e+00, -6.06126438e+00, ...,\n",
       "          -2.68611800e+01, -1.83779735e+01, -6.34290606e+00]]]),\n",
       " 'left': array([[[-1.60010787e+00, -1.53939432e+00, -1.75799601e+00, ...,\n",
       "          -7.37542210e+00, -2.87369984e+00,  7.06089745e-01],\n",
       "         [-1.64337080e+00, -5.46779348e+00, -8.57981289e+00, ...,\n",
       "          -2.54068845e+00, -4.31530259e-01,  7.31464447e-01],\n",
       "         [-2.35413942e-02, -6.70909647e+00, -1.20745659e+01, ...,\n",
       "          -1.28098714e+00,  1.06353476e+00,  2.30629853e+00],\n",
       "         ...,\n",
       "         [-4.16060675e-01, -4.99819998e+00, -8.82512578e+00, ...,\n",
       "          -4.51422891e+00, -1.12580849e+00,  1.27803892e+00],\n",
       "         [-8.33730779e-01,  7.00773656e+00,  1.23767381e+01, ...,\n",
       "          -3.28836131e+01, -1.91836029e+01, -3.81051530e+00],\n",
       "         [-6.05469053e-02,  9.13887950e+00,  1.57831295e+01, ...,\n",
       "          -3.59472502e+01, -2.02525483e+01, -2.81486736e+00]],\n",
       " \n",
       "        [[ 2.27833840e-02,  9.83212142e-01,  1.58994883e+00, ...,\n",
       "           8.29595119e+00,  4.48735757e+00, -1.70436364e-01],\n",
       "         [ 2.16363899e-01,  8.35872963e-01,  1.21747617e+00, ...,\n",
       "           7.46306274e+00,  4.36051588e+00,  5.06543449e-01],\n",
       "         [ 1.25312142e-01,  1.14407979e+00,  1.69313068e+00, ...,\n",
       "           5.22844273e+00,  2.85652067e+00,  6.59641345e-02],\n",
       "         ...,\n",
       "         [ 4.51930934e-02,  4.02506204e-01,  3.70691606e-01, ...,\n",
       "           3.04099536e+00,  1.97210835e+00,  3.18211870e-01],\n",
       "         [-1.42019818e+00, -2.78262850e+00, -4.00185386e+00, ...,\n",
       "           1.72786052e+00,  2.41424327e+00,  2.45085219e+00],\n",
       "         [-1.30801235e-01,  4.66758528e+00,  8.38846227e+00, ...,\n",
       "           2.22237688e+00,  3.22729391e+00,  3.19467438e+00]],\n",
       " \n",
       "        [[-1.02068314e+00, -1.07198229e-01,  9.89708421e-01, ...,\n",
       "           6.02418926e+00,  2.47916276e+00, -1.17828873e+00],\n",
       "         [-1.49039879e+00, -7.78596216e+00, -1.22578481e+01, ...,\n",
       "          -6.36726028e+00, -5.11042716e+00, -2.91551276e+00],\n",
       "         [-1.02550621e+00, -8.52722665e+00, -1.39890945e+01, ...,\n",
       "          -8.66372135e+00, -6.10478033e+00, -2.52626607e+00],\n",
       "         ...,\n",
       "         [-8.75435270e-01, -3.82967348e+00, -5.32509503e+00, ...,\n",
       "          -7.85811495e+00, -5.67577894e+00, -2.44377607e+00],\n",
       "         [-3.93751699e-01,  3.23553474e+00,  6.70755373e+00, ...,\n",
       "           4.66185516e+00,  2.45052823e+00,  1.06379237e-01],\n",
       "         [-7.76798015e-01,  6.74418587e-01,  2.60816789e+00, ...,\n",
       "          -1.68263392e+01, -1.28188557e+01, -6.20218886e+00]],\n",
       " \n",
       "        ...,\n",
       " \n",
       "        [[ 1.30192318e+00,  8.44473052e+00,  1.42055534e+01, ...,\n",
       "          -1.41135816e+01, -1.07125302e+01, -4.75259570e+00],\n",
       "         [ 8.27422716e-01,  4.39065020e+00,  7.47683446e+00, ...,\n",
       "          -1.94962742e+01, -1.46600702e+01, -6.40911727e+00],\n",
       "         [ 2.17771666e-01,  3.05718626e+00,  5.69954026e+00, ...,\n",
       "          -8.55044208e+00, -6.73817894e+00, -3.09841304e+00],\n",
       "         ...,\n",
       "         [ 1.14362839e+00, -3.25446586e-01, -9.58410155e-01, ...,\n",
       "          -1.63124529e+01, -1.18121128e+01, -4.97024111e+00],\n",
       "         [ 3.72904129e+00, -3.54052630e+00, -9.83266909e+00, ...,\n",
       "          -6.85048016e+00, -7.01595921e+00, -5.58987000e+00],\n",
       "         [ 2.90279673e+00, -3.89933585e+00, -8.79586924e+00, ...,\n",
       "          -2.10576213e+00, -3.08955118e+00, -3.31208059e+00]],\n",
       " \n",
       "        [[-1.92136471e+00, -2.16773463e+00, -3.00103955e+00, ...,\n",
       "           6.15679809e+00,  5.00080770e+00,  2.88283952e+00],\n",
       "         [-2.65694606e+00, -4.51361852e+00, -6.22994510e+00, ...,\n",
       "           2.86518323e+01,  2.01256284e+01,  7.84650703e+00],\n",
       "         [-2.22887553e+00, -2.97318721e+00, -3.53127683e+00, ...,\n",
       "           3.57525019e+01,  2.41255205e+01,  8.02110029e+00],\n",
       "         ...,\n",
       "         [-1.21515964e+00, -7.16898494e+00, -1.15756471e+01, ...,\n",
       "           3.69898129e+01,  2.35479772e+01,  6.09788096e+00],\n",
       "         [-9.46245685e-01, -8.58609116e+00, -1.47700193e+01, ...,\n",
       "           1.96497712e+01,  1.33245459e+01,  4.47489485e+00],\n",
       "         [ 1.00944325e-01, -1.42399242e+01, -2.51630749e+01, ...,\n",
       "           2.39892043e+01,  1.51288537e+01,  3.65263317e+00]],\n",
       " \n",
       "        [[-2.86117285e-01,  1.65178921e+00,  4.52364883e+00, ...,\n",
       "           3.28694173e+01,  2.29824104e+01,  8.50690694e+00],\n",
       "         [ 5.39366789e-01, -2.21902138e+00, -3.50042683e+00, ...,\n",
       "           2.92910227e+01,  2.10232547e+01,  8.40426383e+00],\n",
       "         [ 6.93503566e-01,  1.56604695e-01,  1.53925792e-02, ...,\n",
       "           1.47134500e+01,  1.01888206e+01,  3.36168866e+00],\n",
       "         ...,\n",
       "         [-2.71698807e-01, -3.40941197e+00, -5.34373527e+00, ...,\n",
       "           1.89352993e+01,  1.34575991e+01,  5.31614731e+00],\n",
       "         [ 1.90957458e-01, -6.62316550e+00, -1.13625587e+01, ...,\n",
       "           1.66275635e+01,  1.22850312e+01,  5.25849230e+00],\n",
       "         [-2.86742409e-01, -5.78274315e+00, -1.02048827e+01, ...,\n",
       "           2.02972309e+01,  1.44519997e+01,  5.87118597e+00]]])}"
      ]
     },
     "execution_count": 35,
     "metadata": {},
     "output_type": "execute_result"
    }
   ],
   "source": [
    "trials_filt"
   ]
  },
  {
   "cell_type": "code",
   "execution_count": 16,
   "metadata": {},
   "outputs": [
    {
     "data": {
      "image/png": "[encoded data removed]",
      "text/plain": [
       "<Figure size 864x360 with 3 Axes>"
      ]
     },
     "metadata": {
      "needs_background": "light"
     },
     "output_type": "display_data"
    }
   ],
   "source": [
    "psd_r, freqs = psd(trials_filt[cl1])\n",
    "psd_f, freqs = psd(trials_filt[cl2])\n",
    "trials_PSD = {cl1: psd_r, cl2: psd_f}\n",
    "\n",
    "plot_psd(\n",
    "    trials_PSD,\n",
    "    freqs,\n",
    "    ch_index,\n",
    "    #[0, 1, 2],\n",
    "    chan_lab=['left', 'center', 'right'],\n",
    "    maxy=300\n",
    ")"
   ]
  },
  {
   "cell_type": "code",
   "execution_count": 17,
   "metadata": {},
   "outputs": [],
   "source": [
    "# Calculate the log(var) of the trials\n",
    "def logvar(trials):\n",
    "    '''\n",
    "    Calculate the log-var of each channel.\n",
    "    \n",
    "    Parameters\n",
    "    ----------\n",
    "    trials : 3d-array (channels x samples x trials)\n",
    "        The EEG signal.\n",
    "        \n",
    "    Returns\n",
    "    -------\n",
    "    logvar - 2d-array (channels x trials)\n",
    "        For each channel the logvar of the signal\n",
    "    '''\n",
    "    return np.log(np.var(trials, axis=2))"
   ]
  },
  {
   "cell_type": "code",
   "execution_count": 18,
   "metadata": {},
   "outputs": [],
   "source": [
    "# Apply the function\n",
    "trials_logvar = {cl1: logvar(trials_filt[cl1]),\n",
    "                 cl2: logvar(trials_filt[cl2])}"
   ]
  },
  {
   "cell_type": "code",
   "execution_count": 19,
   "metadata": {},
   "outputs": [],
   "source": [
    "def plot_logvar(trials):\n",
    "    '''\n",
    "    Plots the log-var of each channel/component.\n",
    "    arguments:\n",
    "        trials - Dictionary containing the trials (log-vars x trials) for 2 classes.\n",
    "    '''\n",
    "    plt.figure(figsize=(12,5))\n",
    "    \n",
    "    x0 = np.arange(nchannels)\n",
    "    x1 = np.arange(nchannels) + 0.4\n",
    "\n",
    "    y0 = np.mean(trials[cl1], axis=0)\n",
    "    y1 = np.mean(trials[cl2], axis=0)\n",
    "\n",
    "    plt.bar(x0, y0, width=0.5, color='b')\n",
    "    plt.bar(x1, y1, width=0.4, color='r')\n",
    "\n",
    "    plt.xlim(-0.5, nchannels+0.5)\n",
    "\n",
    "    plt.gca().yaxis.grid(True)\n",
    "    plt.title('log-var of each channel/component')\n",
    "    plt.xlabel('channels/components')\n",
    "    plt.ylabel('log-var')\n",
    "    plt.legend(cl_lab)"
   ]
  },
  {
   "cell_type": "code",
   "execution_count": 20,
   "metadata": {},
   "outputs": [
    {
     "data": {
      "image/png": "[encoded data removed]",
      "text/plain": [
       "<Figure size 864x360 with 1 Axes>"
      ]
     },
     "metadata": {
      "needs_background": "light"
     },
     "output_type": "display_data"
    }
   ],
   "source": [
    "cl_lab=[cl1, cl2]\n",
    "plot_logvar(trials_logvar)"
   ]
  },
  {
   "cell_type": "code",
   "execution_count": 21,
   "metadata": {},
   "outputs": [],
   "source": [
    "from numpy import linalg\n",
    "\n",
    "def cov(trials):\n",
    "    ''' Calculate the covariance for each trial and return their average '''\n",
    "    ntrials = trials.shape[0]\n",
    "    covs = [ trials[i,:,:].dot(trials[i,:,:].T) / nsamples for i in range(ntrials) ]\n",
    "    return np.mean(covs, axis=0)\n",
    "\n",
    "def whitening(sigma):\n",
    "    ''' Calculate a whitening matrix for covariance matrix sigma. '''\n",
    "    U, l, _ = linalg.svd(sigma)\n",
    "    return U.dot( np.diag(l ** -0.5) )\n",
    "\n",
    "def csp(trials_r, trials_f):\n",
    "    '''\n",
    "    Calculate the CSP transformation matrix W.\n",
    "    arguments:\n",
    "        trials_r - Array (channels x samples x trials) containing right hand movement trials\n",
    "        trials_f - Array (channels x samples x trials) containing foot movement trials\n",
    "    returns:\n",
    "        Mixing matrix W\n",
    "    '''\n",
    "    cov_r = cov(trials_r)\n",
    "    cov_f = cov(trials_f)\n",
    "    P = whitening(cov_r + cov_f)\n",
    "    B, _, _ = linalg.svd( P.T.dot(cov_f).dot(P) )\n",
    "    W = P.dot(B)\n",
    "    return W\n",
    "\n",
    "def apply_mix(W, trials):\n",
    "    ''' Apply a mixing matrix to each trial (basically multiply W with the EEG signal matrix)'''\n",
    "    ntrials = trials.shape[0]\n",
    "    trials_csp = np.zeros((ntrials, nchannels, nsamples))\n",
    "    for i in range(ntrials):\n",
    "        trials_csp[i,:,:] = W.T.dot(trials[i,:,:])\n",
    "    return trials_csp"
   ]
  },
  {
   "cell_type": "code",
   "execution_count": 22,
   "metadata": {},
   "outputs": [],
   "source": [
    "# Apply the functions\n",
    "W = csp(trials_filt[cl1], trials_filt[cl2])\n",
    "\n",
    "trials_csp = {cl1: apply_mix(W, trials_filt[cl1]),\n",
    "              cl2: apply_mix(W, trials_filt[cl2])}"
   ]
  },
  {
   "cell_type": "code",
   "execution_count": 23,
   "metadata": {},
   "outputs": [
    {
     "data": {
      "image/png": "[encoded data removed]",
      "text/plain": [
       "<Figure size 864x360 with 1 Axes>"
      ]
     },
     "metadata": {
      "needs_background": "light"
     },
     "output_type": "display_data"
    }
   ],
   "source": [
    "trials_logvar = {cl1: logvar(trials_csp[cl1]),\n",
    "                 cl2: logvar(trials_csp[cl2])}\n",
    "plot_logvar(trials_logvar)"
   ]
  },
  {
   "cell_type": "code",
   "execution_count": 39,
   "metadata": {},
   "outputs": [
    {
     "data": {
      "text/plain": [
       "161"
      ]
     },
     "execution_count": 39,
     "metadata": {},
     "output_type": "execute_result"
    }
   ],
   "source": [
    "len(freqs)"
   ]
  },
  {
   "cell_type": "code",
   "execution_count": 24,
   "metadata": {},
   "outputs": [
    {
     "data": {
      "image/png": "[encoded data removed]",
      "text/plain": [
       "<Figure size 864x360 with 3 Axes>"
      ]
     },
     "metadata": {
      "needs_background": "light"
     },
     "output_type": "display_data"
    }
   ],
   "source": [
    "psd_r, freqs = psd(trials_csp[cl1])\n",
    "psd_f, freqs = psd(trials_csp[cl2])\n",
    "trials_PSD = {cl1: psd_r, cl2: psd_f}\n",
    "\n",
    "#plot_psd(trials_PSD, freqs, [channel_names.index(ch) for ch in ['C3', 'Cz', 'C4']], chan_lab=['first component', 'middle component', 'last component'], maxy=0.75 )\n",
    "plot_psd(trials_PSD, freqs, ch_index, chan_lab=['first component', 'middle component', 'last component'], maxy=0.75 )"
   ]
  },
  {
   "cell_type": "code",
   "execution_count": 25,
   "metadata": {},
   "outputs": [],
   "source": [
    "def plot_scatter(left, foot):\n",
    "    plt.figure()\n",
    "    plt.scatter(left[:,0], left[:,-1], color='b')\n",
    "    plt.scatter(foot[:,0], foot[:,-1], color='r')\n",
    "    plt.xlabel('Last component')\n",
    "    plt.ylabel('First component')\n",
    "    plt.legend(cl_lab)"
   ]
  },
  {
   "cell_type": "code",
   "execution_count": 26,
   "metadata": {},
   "outputs": [
    {
     "data": {
      "image/png": "[encoded data removed]",
      "text/plain": [
       "<Figure size 432x288 with 1 Axes>"
      ]
     },
     "metadata": {
      "needs_background": "light"
     },
     "output_type": "display_data"
    }
   ],
   "source": [
    "plot_scatter(trials_logvar[cl1], trials_logvar[cl2])"
   ]
  },
  {
   "cell_type": "code",
   "execution_count": 27,
   "metadata": {},
   "outputs": [],
   "source": [
    "# Percentage of trials to use for training (50-50 split here)\n",
    "train_percentage = 0.5 \n",
    "\n",
    "# Calculate the number of trials for each class the above percentage boils down to\n",
    "ntrain_r = int(trials_filt[cl1].shape[0] * train_percentage)\n",
    "ntrain_f = int(trials_filt[cl2].shape[0] * train_percentage)\n",
    "ntest_r = trials_filt[cl1].shape[0] - ntrain_r\n",
    "ntest_f = trials_filt[cl2].shape[0] - ntrain_f\n",
    "\n",
    "\n",
    "# Splitting the frequency filtered signal into a train and test set\n",
    "train = {cl1: trials_filt[cl1][:ntrain_r,:,:],\n",
    "         cl2: trials_filt[cl2][:ntrain_f,:,:]}\n",
    "\n",
    "test = {cl1: trials_filt[cl1][ntrain_r:,:,:],\n",
    "        cl2: trials_filt[cl2][ntrain_f:,:,:]}\n",
    "\n",
    "# Train the CSP on the training set only\n",
    "W = csp(train[cl1], train[cl2])\n",
    "\n",
    "# Apply the CSP on both the training and test set\n",
    "train[cl1] = apply_mix(W, train[cl1])\n",
    "train[cl2] = apply_mix(W, train[cl2])\n",
    "test[cl1] = apply_mix(W, test[cl1])\n",
    "test[cl2] = apply_mix(W, test[cl2])"
   ]
  },
  {
   "cell_type": "code",
   "execution_count": 28,
   "metadata": {},
   "outputs": [],
   "source": [
    "# Select only the first and last components for classification\n",
    "comp = np.array([0,-1])\n",
    "train[cl1] = train[cl1][:,comp,:]\n",
    "train[cl2] = train[cl2][:,comp,:]\n",
    "test[cl1] = test[cl1][:,comp,:]\n",
    "test[cl2] = test[cl2][:,comp,:]"
   ]
  },
  {
   "cell_type": "code",
   "execution_count": 29,
   "metadata": {},
   "outputs": [],
   "source": [
    "# Calculate the log-var\n",
    "train[cl1] = logvar(train[cl1])\n",
    "train[cl2] = logvar(train[cl2])\n",
    "test[cl1] = logvar(test[cl1])\n",
    "test[cl2] = logvar(test[cl2])"
   ]
  },
  {
   "cell_type": "code",
   "execution_count": 30,
   "metadata": {},
   "outputs": [],
   "source": [
    "def train_lda(class1, class2):\n",
    "    '''\n",
    "    Trains the LDA algorithm.\n",
    "    arguments:\n",
    "        class1 - An array (observations x features) for class 1\n",
    "        class2 - An array (observations x features) for class 2\n",
    "    returns:\n",
    "        The projection matrix W\n",
    "        The offset b\n",
    "    '''\n",
    "    nclasses = 2\n",
    "    \n",
    "    nclass1 = class1.shape[0]\n",
    "    nclass2 = class2.shape[0]\n",
    "    \n",
    "    # Class priors: in this case, we have an equal number of training\n",
    "    # examples for each class, so both priors are 0.5\n",
    "    prior1 = nclass1 / float(nclass1 + nclass2)\n",
    "    prior2 = nclass2 / float(nclass1 + nclass1)\n",
    "   \n",
    "    mean1 = np.mean(class1, axis=0)\n",
    "    mean2 = np.mean(class2, axis=0)\n",
    "    \n",
    "    class1_centered = class1 - mean1\n",
    "    class2_centered = class2 - mean2\n",
    "    \n",
    "    # Calculate the covariance between the features\n",
    "    cov1 = class1_centered.T.dot(class1_centered) / (nclass1 - nclasses)\n",
    "    cov2 = class2_centered.T.dot(class2_centered) / (nclass2 - nclasses)\n",
    "   \n",
    "    W = (mean2 - mean1).dot(np.linalg.pinv(prior1*cov1 + prior2*cov2))\n",
    "    b = (prior1*mean1 + prior2*mean2).dot(W)\n",
    "    \n",
    "    return (W,b)\n",
    "\n",
    "def apply_lda(test, W, b):\n",
    "    '''\n",
    "    Applies a previously trained LDA to new data.\n",
    "    arguments:\n",
    "        test - An array (features x trials) containing the data\n",
    "        W    - The project matrix W as calculated by train_lda()\n",
    "        b    - The offsets b as calculated by train_lda()\n",
    "    returns:\n",
    "        A list containing a classlabel for each trial\n",
    "    '''\n",
    "    ntrials = test.shape[1]\n",
    "    \n",
    "    prediction = []\n",
    "    for i in range(ntrials):\n",
    "        # The line below is a generalization for:\n",
    "        # result = W[0] * test[0,i] + W[1] * test[1,i] - b\n",
    "        result = W.dot(test[:,i]) - b\n",
    "        if result <= 0:\n",
    "            prediction.append(1)\n",
    "        else:\n",
    "            prediction.append(2)\n",
    "    \n",
    "    return np.array(prediction)"
   ]
  },
  {
   "cell_type": "code",
   "execution_count": 31,
   "metadata": {},
   "outputs": [
    {
     "name": "stdout",
     "output_type": "stream",
     "text": [
      "W: [ 1.42606708 -2.35860894]\n",
      "b: 0.2536750768747107\n"
     ]
    }
   ],
   "source": [
    "W,b = train_lda(train[cl1], train[cl2])\n",
    "\n",
    "print('W:', W)\n",
    "print('b:', b)"
   ]
  },
  {
   "cell_type": "code",
   "execution_count": 32,
   "metadata": {},
   "outputs": [
    {
     "data": {
      "text/plain": [
       "(-2.2, 1.0)"
      ]
     },
     "execution_count": 32,
     "metadata": {},
     "output_type": "execute_result"
    },
    {
     "data": {
      "image/png": "[encoded data removed]",
      "text/plain": [
       "<Figure size 432x288 with 1 Axes>"
      ]
     },
     "metadata": {
      "needs_background": "light"
     },
     "output_type": "display_data"
    }
   ],
   "source": [
    "# Scatterplot like before\n",
    "plot_scatter(train[cl1], train[cl2])\n",
    "#title('Training data')\n",
    "\n",
    "# Calculate decision boundary (x,y)\n",
    "x = np.arange(-5, 1, 0.1)\n",
    "y = (b - W[0]*x) / W[1]\n",
    "\n",
    "# Plot the decision boundary\n",
    "plt.plot(x,y, linestyle='--', linewidth=2, color='k')\n",
    "plt.xlim(-5, 1)\n",
    "plt.ylim(-2.2, 1)"
   ]
  },
  {
   "cell_type": "code",
   "execution_count": 33,
   "metadata": {},
   "outputs": [
    {
     "data": {
      "text/plain": [
       "(-2.2, 1.0)"
      ]
     },
     "execution_count": 33,
     "metadata": {},
     "output_type": "execute_result"
    },
    {
     "data": {
      "image/png": "[encoded data removed]",
      "text/plain": [
       "<Figure size 432x288 with 1 Axes>"
      ]
     },
     "metadata": {
      "needs_background": "light"
     },
     "output_type": "display_data"
    }
   ],
   "source": [
    "plot_scatter(test[cl1], test[cl2])\n",
    "#title('Test data')\n",
    "plt.plot(x,y, linestyle='--', linewidth=2, color='k')\n",
    "plt.xlim(-5, 1)\n",
    "plt.ylim(-2.2, 1)"
   ]
  },
  {
   "cell_type": "code",
   "execution_count": 34,
   "metadata": {},
   "outputs": [
    {
     "name": "stdout",
     "output_type": "stream",
     "text": [
      "Confusion matrix:\n",
      "[[8 5]\n",
      " [3 7]]\n",
      "\n",
      "Accuracy: 0.652\n"
     ]
    }
   ],
   "source": [
    "# Print confusion matrix\n",
    "conf = np.array([\n",
    "    [(apply_lda(test[cl1].T, W, b) == 1).sum(), (apply_lda(test[cl2].T, W, b) == 1).sum()],\n",
    "    [(apply_lda(test[cl1].T, W, b) == 2).sum(), (apply_lda(test[cl2].T, W, b) == 2).sum()],\n",
    "])\n",
    "\n",
    "print('Confusion matrix:')\n",
    "print(conf)\n",
    "print()\n",
    "print('Accuracy: %.3f' % (np.sum(np.diag(conf)) / float(np.sum(conf))))"
   ]
  },
  {
   "cell_type": "code",
   "execution_count": null,
   "metadata": {},
   "outputs": [],
   "source": []
  }
 ],
 "metadata": {
  "kernelspec": {
   "display_name": "Python 3",
   "language": "python",
   "name": "python3"
  },
  "language_info": {
   "codemirror_mode": {
    "name": "ipython",
    "version": 3
   },
   "file_extension": ".py",
   "mimetype": "text/x-python",
   "name": "python",
   "nbconvert_exporter": "python",
   "pygments_lexer": "ipython3",
   "version": "3.8.5"
  }
 },
 "nbformat": 4,
 "nbformat_minor": 1
}
